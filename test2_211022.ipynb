{
  "nbformat": 4,
  "nbformat_minor": 0,
  "metadata": {
    "colab": {
      "name": "test2_211022.ipynb",
      "provenance": [],
      "collapsed_sections": []
    },
    "kernelspec": {
      "name": "python3",
      "display_name": "Python 3"
    },
    "language_info": {
      "name": "python"
    }
  },
  "cells": [
    {
      "cell_type": "markdown",
      "metadata": {
        "id": "wQPsL23ZzfSz"
      },
      "source": [
        "# シンボル表"
      ]
    },
    {
      "cell_type": "code",
      "metadata": {
        "colab": {
          "base_uri": "https://localhost:8080/"
        },
        "id": "JYRfyRCE9EnW",
        "outputId": "f243f26f-41b3-4c3d-cd5a-a441fedac3ce"
      },
      "source": [
        "potato_price = 250\n",
        "print(potato_price)"
      ],
      "execution_count": 1,
      "outputs": [
        {
          "output_type": "stream",
          "name": "stdout",
          "text": [
            "250\n"
          ]
        }
      ]
    },
    {
      "cell_type": "code",
      "metadata": {
        "colab": {
          "base_uri": "https://localhost:8080/"
        },
        "id": "fYRxUE0y9NJl",
        "outputId": "55baae44-ba7e-4c44-ddf6-cdfbfc97a14c"
      },
      "source": [
        "globals()"
      ],
      "execution_count": 2,
      "outputs": [
        {
          "output_type": "execute_result",
          "data": {
            "text/plain": [
              "{'In': ['', 'potato_price = 250\\nprint(potato_price)', 'globals()'],\n",
              " 'Out': {},\n",
              " '_': '',\n",
              " '__': '',\n",
              " '___': '',\n",
              " '__builtin__': <module 'builtins' (built-in)>,\n",
              " '__builtins__': <module 'builtins' (built-in)>,\n",
              " '__doc__': 'Automatically created module for IPython interactive environment',\n",
              " '__loader__': None,\n",
              " '__name__': '__main__',\n",
              " '__package__': None,\n",
              " '__spec__': None,\n",
              " '_dh': ['/content'],\n",
              " '_i': 'potato_price = 250\\nprint(potato_price)',\n",
              " '_i1': 'potato_price = 250\\nprint(potato_price)',\n",
              " '_i2': 'globals()',\n",
              " '_ih': ['', 'potato_price = 250\\nprint(potato_price)', 'globals()'],\n",
              " '_ii': '',\n",
              " '_iii': '',\n",
              " '_oh': {},\n",
              " '_sh': <module 'IPython.core.shadowns' from '/usr/local/lib/python3.7/dist-packages/IPython/core/shadowns.py'>,\n",
              " 'exit': <IPython.core.autocall.ZMQExitAutocall at 0x7fde87340510>,\n",
              " 'get_ipython': <bound method InteractiveShell.get_ipython of <google.colab._shell.Shell object at 0x7fde875dbe10>>,\n",
              " 'potato_price': 250,\n",
              " 'quit': <IPython.core.autocall.ZMQExitAutocall at 0x7fde87340510>}"
            ]
          },
          "metadata": {},
          "execution_count": 2
        }
      ]
    },
    {
      "cell_type": "code",
      "metadata": {
        "colab": {
          "base_uri": "https://localhost:8080/"
        },
        "id": "nkSERy7C9Z6W",
        "outputId": "3460de38-499e-4dbf-d0f9-afbe69e8cafd"
      },
      "source": [
        "print(__spec__)"
      ],
      "execution_count": 3,
      "outputs": [
        {
          "output_type": "stream",
          "name": "stdout",
          "text": [
            "None\n"
          ]
        }
      ]
    },
    {
      "cell_type": "code",
      "metadata": {
        "colab": {
          "base_uri": "https://localhost:8080/"
        },
        "id": "__cMlKsH9yGA",
        "outputId": "eada81c0-b4a2-4e3e-d95e-e01d00129d57"
      },
      "source": [
        "print(__builtins__)"
      ],
      "execution_count": 4,
      "outputs": [
        {
          "output_type": "stream",
          "name": "stdout",
          "text": [
            "<module 'builtins' (built-in)>\n"
          ]
        }
      ]
    },
    {
      "cell_type": "code",
      "metadata": {
        "colab": {
          "base_uri": "https://localhost:8080/"
        },
        "id": "Rd23-ysg94KC",
        "outputId": "45102c9e-e06a-4d46-d1fb-e42e3db59fc2"
      },
      "source": [
        "num_list = [2, 4, 6, 4, 4, 2, 6]\n",
        "for i in range(num_list.count(4)):\n",
        "    print(i, end=' ')"
      ],
      "execution_count": 6,
      "outputs": [
        {
          "output_type": "stream",
          "name": "stdout",
          "text": [
            "0 1 2 "
          ]
        }
      ]
    },
    {
      "cell_type": "code",
      "metadata": {
        "colab": {
          "base_uri": "https://localhost:8080/"
        },
        "id": "xKFEsx8z-6Vt",
        "outputId": "ce2c4d60-1ad2-4491-f6b6-0f03fedb4f62"
      },
      "source": [
        "num_list = [2, 4, 6, 4, 4, 2, 6]\n",
        "for i in range(num_list.count(4)):\n",
        "    print(i, end=', ')"
      ],
      "execution_count": 8,
      "outputs": [
        {
          "output_type": "stream",
          "name": "stdout",
          "text": [
            "0, 1, 2, "
          ]
        }
      ]
    },
    {
      "cell_type": "code",
      "metadata": {
        "colab": {
          "base_uri": "https://localhost:8080/"
        },
        "id": "z8gFx_8U_BQP",
        "outputId": "15709d2d-3763-4ff5-e1c8-4ba766b6c070"
      },
      "source": [
        "name1, name2, name3, name4 = '', 'suzuki', 'tanaka', 'sato'\n",
        "selected_name = name1 or name2 or name3 or name4\n",
        "print(selected_name)"
      ],
      "execution_count": 9,
      "outputs": [
        {
          "output_type": "stream",
          "name": "stdout",
          "text": [
            "suzuki\n"
          ]
        }
      ]
    },
    {
      "cell_type": "code",
      "metadata": {
        "colab": {
          "base_uri": "https://localhost:8080/"
        },
        "id": "tThC65tBA2n4",
        "outputId": "73e1dcaf-80dd-458f-a3f9-f6097773018a"
      },
      "source": [
        "name1, name2, name3, name4 = '', 'suzuki', 'tanaka', 'sato'\n",
        "selected_name = name1 or name2\n",
        "print(selected_name)"
      ],
      "execution_count": 10,
      "outputs": [
        {
          "output_type": "stream",
          "name": "stdout",
          "text": [
            "suzuki\n"
          ]
        }
      ]
    },
    {
      "cell_type": "markdown",
      "metadata": {
        "id": "wVyokIPkA7MU"
      },
      "source": [
        "# zipとアンパック"
      ]
    },
    {
      "cell_type": "code",
      "metadata": {
        "colab": {
          "base_uri": "https://localhost:8080/"
        },
        "id": "GMvxQc9BBtIt",
        "outputId": "21466b10-56ac-4ade-e69c-396cf3a69f5b"
      },
      "source": [
        "dic = [\n",
        "       ['Noro', 'Nakao', 'Miyaoka'], \n",
        "       ['Kimura', 'Miyashita', 'shibata'], \n",
        "       ['Matsumoto', 'Tanaka', 'Ivan'], \n",
        "]\n",
        "\n",
        "print(list(zip(*dic)))"
      ],
      "execution_count": 11,
      "outputs": [
        {
          "output_type": "stream",
          "name": "stdout",
          "text": [
            "[('Noro', 'Kimura', 'Matsumoto'), ('Nakao', 'Miyashita', 'Tanaka'), ('Miyaoka', 'shibata', 'Ivan')]\n"
          ]
        }
      ]
    },
    {
      "cell_type": "code",
      "metadata": {
        "colab": {
          "base_uri": "https://localhost:8080/"
        },
        "id": "bw6G2nSUCEqm",
        "outputId": "82619c1d-391d-4b33-c0a3-10b1285c74e4"
      },
      "source": [
        "args = [3, 6]\n",
        "list(range(*args))"
      ],
      "execution_count": 13,
      "outputs": [
        {
          "output_type": "execute_result",
          "data": {
            "text/plain": [
              "[3, 4, 5]"
            ]
          },
          "metadata": {},
          "execution_count": 13
        }
      ]
    },
    {
      "cell_type": "markdown",
      "metadata": {
        "id": "k7qYhe6eDWbI"
      },
      "source": [
        "# 例外"
      ]
    },
    {
      "cell_type": "code",
      "metadata": {
        "colab": {
          "base_uri": "https://localhost:8080/",
          "height": 134
        },
        "id": "74Jy1h-WERyN",
        "outputId": "6b3f0740-2641-4e98-b140-657c347adc92"
      },
      "source": [
        "print("
      ],
      "execution_count": 14,
      "outputs": [
        {
          "output_type": "error",
          "ename": "SyntaxError",
          "evalue": "ignored",
          "traceback": [
            "\u001b[0;36m  File \u001b[0;32m\"<ipython-input-14-424fbb3a34c5>\"\u001b[0;36m, line \u001b[0;32m1\u001b[0m\n\u001b[0;31m    print(\u001b[0m\n\u001b[0m          ^\u001b[0m\n\u001b[0;31mSyntaxError\u001b[0m\u001b[0;31m:\u001b[0m unexpected EOF while parsing\n"
          ]
        }
      ]
    },
    {
      "cell_type": "code",
      "metadata": {
        "colab": {
          "base_uri": "https://localhost:8080/",
          "height": 134
        },
        "id": "K5IMgrOLEp2G",
        "outputId": "8d4bd534-03f0-40d7-c756-5fc925c5c6c2"
      },
      "source": [
        "for i range(5) in:\n",
        "    print('Hello')"
      ],
      "execution_count": 15,
      "outputs": [
        {
          "output_type": "error",
          "ename": "SyntaxError",
          "evalue": "ignored",
          "traceback": [
            "\u001b[0;36m  File \u001b[0;32m\"<ipython-input-15-4b056df4f2d0>\"\u001b[0;36m, line \u001b[0;32m1\u001b[0m\n\u001b[0;31m    for i range(5) in:\u001b[0m\n\u001b[0m              ^\u001b[0m\n\u001b[0;31mSyntaxError\u001b[0m\u001b[0;31m:\u001b[0m invalid syntax\n"
          ]
        }
      ]
    },
    {
      "cell_type": "code",
      "metadata": {
        "colab": {
          "base_uri": "https://localhost:8080/",
          "height": 134
        },
        "id": "K0t6S-PHEz7Z",
        "outputId": "9588a621-7895-4a12-bb0e-599c5c19409f"
      },
      "source": [
        "c = 0\n",
        "for i in range(5):\n",
        "print(c)"
      ],
      "execution_count": 17,
      "outputs": [
        {
          "output_type": "error",
          "ename": "IndentationError",
          "evalue": "ignored",
          "traceback": [
            "\u001b[0;36m  File \u001b[0;32m\"<ipython-input-17-88c6e88035d6>\"\u001b[0;36m, line \u001b[0;32m3\u001b[0m\n\u001b[0;31m    print(c)\u001b[0m\n\u001b[0m        ^\u001b[0m\n\u001b[0;31mIndentationError\u001b[0m\u001b[0;31m:\u001b[0m expected an indented block\n"
          ]
        }
      ]
    },
    {
      "cell_type": "code",
      "metadata": {
        "colab": {
          "base_uri": "https://localhost:8080/",
          "height": 168
        },
        "id": "CDFa7rLXFFhS",
        "outputId": "1fe55292-f987-43e4-bd27-a6b02dd8e740"
      },
      "source": [
        "3 / 0"
      ],
      "execution_count": 18,
      "outputs": [
        {
          "output_type": "error",
          "ename": "ZeroDivisionError",
          "evalue": "ignored",
          "traceback": [
            "\u001b[0;31m---------------------------------------------------------------------------\u001b[0m",
            "\u001b[0;31mZeroDivisionError\u001b[0m                         Traceback (most recent call last)",
            "\u001b[0;32m<ipython-input-18-e1965806ec03>\u001b[0m in \u001b[0;36m<module>\u001b[0;34m()\u001b[0m\n\u001b[0;32m----> 1\u001b[0;31m \u001b[0;36m3\u001b[0m \u001b[0;34m/\u001b[0m \u001b[0;36m0\u001b[0m\u001b[0;34m\u001b[0m\u001b[0;34m\u001b[0m\u001b[0m\n\u001b[0m",
            "\u001b[0;31mZeroDivisionError\u001b[0m: division by zero"
          ]
        }
      ]
    },
    {
      "cell_type": "code",
      "metadata": {
        "colab": {
          "base_uri": "https://localhost:8080/",
          "height": 168
        },
        "id": "CbxUJ-i0FeN7",
        "outputId": "4983975f-38aa-42af-80b7-429e7161776e"
      },
      "source": [
        "name * 3"
      ],
      "execution_count": 19,
      "outputs": [
        {
          "output_type": "error",
          "ename": "NameError",
          "evalue": "ignored",
          "traceback": [
            "\u001b[0;31m---------------------------------------------------------------------------\u001b[0m",
            "\u001b[0;31mNameError\u001b[0m                                 Traceback (most recent call last)",
            "\u001b[0;32m<ipython-input-19-f1f8e1e8877c>\u001b[0m in \u001b[0;36m<module>\u001b[0;34m()\u001b[0m\n\u001b[0;32m----> 1\u001b[0;31m \u001b[0mname\u001b[0m \u001b[0;34m*\u001b[0m \u001b[0;36m3\u001b[0m\u001b[0;34m\u001b[0m\u001b[0;34m\u001b[0m\u001b[0m\n\u001b[0m",
            "\u001b[0;31mNameError\u001b[0m: name 'name' is not defined"
          ]
        }
      ]
    },
    {
      "cell_type": "code",
      "metadata": {
        "colab": {
          "base_uri": "https://localhost:8080/",
          "height": 168
        },
        "id": "YqFChzo_FhqB",
        "outputId": "26f5c354-ed4d-412a-e575-113dbb6af9ea"
      },
      "source": [
        "\"a\" + 3"
      ],
      "execution_count": 20,
      "outputs": [
        {
          "output_type": "error",
          "ename": "TypeError",
          "evalue": "ignored",
          "traceback": [
            "\u001b[0;31m---------------------------------------------------------------------------\u001b[0m",
            "\u001b[0;31mTypeError\u001b[0m                                 Traceback (most recent call last)",
            "\u001b[0;32m<ipython-input-20-5aa8a24e3e06>\u001b[0m in \u001b[0;36m<module>\u001b[0;34m()\u001b[0m\n\u001b[0;32m----> 1\u001b[0;31m \u001b[0;34m\"a\"\u001b[0m \u001b[0;34m+\u001b[0m \u001b[0;36m3\u001b[0m\u001b[0;34m\u001b[0m\u001b[0;34m\u001b[0m\u001b[0m\n\u001b[0m",
            "\u001b[0;31mTypeError\u001b[0m: can only concatenate str (not \"int\") to str"
          ]
        }
      ]
    },
    {
      "cell_type": "code",
      "metadata": {
        "colab": {
          "base_uri": "https://localhost:8080/",
          "height": 168
        },
        "id": "Zato3Wz0FljP",
        "outputId": "bcc0412d-3fc3-4a97-8683-5ae600d3cd79"
      },
      "source": [
        "int(\"Hello World\")"
      ],
      "execution_count": 21,
      "outputs": [
        {
          "output_type": "error",
          "ename": "ValueError",
          "evalue": "ignored",
          "traceback": [
            "\u001b[0;31m---------------------------------------------------------------------------\u001b[0m",
            "\u001b[0;31mValueError\u001b[0m                                Traceback (most recent call last)",
            "\u001b[0;32m<ipython-input-21-3892b3d8a34e>\u001b[0m in \u001b[0;36m<module>\u001b[0;34m()\u001b[0m\n\u001b[0;32m----> 1\u001b[0;31m \u001b[0mint\u001b[0m\u001b[0;34m(\u001b[0m\u001b[0;34m\"Hello World\"\u001b[0m\u001b[0;34m)\u001b[0m\u001b[0;34m\u001b[0m\u001b[0;34m\u001b[0m\u001b[0m\n\u001b[0m",
            "\u001b[0;31mValueError\u001b[0m: invalid literal for int() with base 10: 'Hello World'"
          ]
        }
      ]
    },
    {
      "cell_type": "code",
      "metadata": {
        "colab": {
          "base_uri": "https://localhost:8080/"
        },
        "id": "6lWq8SqLFteq",
        "outputId": "069d6dfb-2471-4ad6-d545-92f658b665eb"
      },
      "source": [
        "while True:\n",
        "    try:\n",
        "        x = int(input(\"数字を入力してください\"))\n",
        "    except ValueError:\n",
        "        print(\"これは有効な数字ではありません。もう一度入力してください。\")\n",
        "    else:\n",
        "        break\n"
      ],
      "execution_count": 23,
      "outputs": [
        {
          "name": "stdout",
          "output_type": "stream",
          "text": [
            "数字を入力してくださいa\n",
            "これは有効な数字ではありません。もう一度入力してください。\n",
            "数字を入力してくださいa\n",
            "これは有効な数字ではありません。もう一度入力してください。\n",
            "数字を入力してください1\n"
          ]
        }
      ]
    },
    {
      "cell_type": "code",
      "metadata": {
        "id": "Ir92BEGIGGzo"
      },
      "source": [
        "def vending_machine():\n",
        "    print(\"==自動販売機==\")\n",
        "    print(\"コーラ：150円\\nオレンジジュース：120円\\n選んだジュースと投入金額を入力してください。\")\n",
        "    print(\"お釣りは出ません。\")\n",
        "    print(\"===========\")\n",
        "\n",
        "    juice_dict = {\"コーラ\": 150, \"オレンジジュース\": 120}\n",
        "\n",
        "    juice = input(\"選んだジュース：\")\n",
        "    price = juice_dict[juice]\n",
        "\n",
        "    in_amount = int(input(\"投入金額：\"))\n",
        "\n",
        "    if in_amount > price:\n",
        "        print(\"購入完了\")\n",
        "    else:\n",
        "        print(\"投入金額が不足しています\")\n",
        "\n"
      ],
      "execution_count": 26,
      "outputs": []
    },
    {
      "cell_type": "code",
      "metadata": {
        "colab": {
          "base_uri": "https://localhost:8080/",
          "height": 423
        },
        "id": "YRuaiG8AIP4H",
        "outputId": "21eaed50-25c4-472b-9dfd-6884145150fe"
      },
      "source": [
        "vending_machine()"
      ],
      "execution_count": 30,
      "outputs": [
        {
          "name": "stdout",
          "output_type": "stream",
          "text": [
            "==自動販売機==\n",
            "コーラ：150円\n",
            "オレンジジュース：120円\n",
            "選んだジュースと投入金額を入力してください。\n",
            "お釣りは出ません。\n",
            "===========\n",
            "選んだジュース：コーラ\n",
            "投入金額：あ\n"
          ]
        },
        {
          "output_type": "error",
          "ename": "ValueError",
          "evalue": "ignored",
          "traceback": [
            "\u001b[0;31m---------------------------------------------------------------------------\u001b[0m",
            "\u001b[0;31mValueError\u001b[0m                                Traceback (most recent call last)",
            "\u001b[0;32m<ipython-input-30-372856c21bbc>\u001b[0m in \u001b[0;36m<module>\u001b[0;34m()\u001b[0m\n\u001b[0;32m----> 1\u001b[0;31m \u001b[0mvending_machine\u001b[0m\u001b[0;34m(\u001b[0m\u001b[0;34m)\u001b[0m\u001b[0;34m\u001b[0m\u001b[0;34m\u001b[0m\u001b[0m\n\u001b[0m",
            "\u001b[0;32m<ipython-input-26-641e81aa6d30>\u001b[0m in \u001b[0;36mvending_machine\u001b[0;34m()\u001b[0m\n\u001b[1;32m     10\u001b[0m     \u001b[0mprice\u001b[0m \u001b[0;34m=\u001b[0m \u001b[0mjuice_dict\u001b[0m\u001b[0;34m[\u001b[0m\u001b[0mjuice\u001b[0m\u001b[0;34m]\u001b[0m\u001b[0;34m\u001b[0m\u001b[0;34m\u001b[0m\u001b[0m\n\u001b[1;32m     11\u001b[0m \u001b[0;34m\u001b[0m\u001b[0m\n\u001b[0;32m---> 12\u001b[0;31m     \u001b[0min_amount\u001b[0m \u001b[0;34m=\u001b[0m \u001b[0mint\u001b[0m\u001b[0;34m(\u001b[0m\u001b[0minput\u001b[0m\u001b[0;34m(\u001b[0m\u001b[0;34m\"投入金額：\"\u001b[0m\u001b[0;34m)\u001b[0m\u001b[0;34m)\u001b[0m\u001b[0;34m\u001b[0m\u001b[0;34m\u001b[0m\u001b[0m\n\u001b[0m\u001b[1;32m     13\u001b[0m \u001b[0;34m\u001b[0m\u001b[0m\n\u001b[1;32m     14\u001b[0m     \u001b[0;32mif\u001b[0m \u001b[0min_amount\u001b[0m \u001b[0;34m>\u001b[0m \u001b[0mprice\u001b[0m\u001b[0;34m:\u001b[0m\u001b[0;34m\u001b[0m\u001b[0;34m\u001b[0m\u001b[0m\n",
            "\u001b[0;31mValueError\u001b[0m: invalid literal for int() with base 10: 'あ'"
          ]
        }
      ]
    },
    {
      "cell_type": "code",
      "metadata": {
        "id": "k4X3gGDcIUDK"
      },
      "source": [
        "def vending_machine():\n",
        "    while True:\n",
        "        print(\"=自動販売機=\")\n",
        "        print(\"コーラ：150円\\nオレンジジュース：120円\\n選んだジュースと投入金額を入力してください。\")\n",
        "        print(\"お釣りは出ません。\")\n",
        "        print(\"==========\")\n",
        "        juice_dict = {\"コーラ\": 150, \"オレンジジュース\": 120}\n",
        "        try:\n",
        "            juice = input(\"選んだジュース：\")\n",
        "            price = juice_dict[juice]\n",
        "        except KeyError:\n",
        "            print(\"指定されたジュース名を入れてください\")\n",
        "            continue\n",
        "        try:\n",
        "            in_amount = int(input(\"投入金額：\"))\n",
        "        except ValueError:\n",
        "            print(\"半角の整数値を入力してください。\")\n",
        "            continue\n",
        "        if in_amount > price:\n",
        "            print(\"購入完了\")\n",
        "            break\n",
        "        else:\n",
        "            print(\"投入金が不足しています・・・\")\n",
        "            break\n"
      ],
      "execution_count": 35,
      "outputs": []
    },
    {
      "cell_type": "code",
      "metadata": {
        "colab": {
          "base_uri": "https://localhost:8080/"
        },
        "id": "Hg-85t9PMntr",
        "outputId": "442f8a5b-252b-4505-cd79-7be842ed3c2c"
      },
      "source": [
        "vending_machine()"
      ],
      "execution_count": 36,
      "outputs": [
        {
          "output_type": "stream",
          "name": "stdout",
          "text": [
            "=自動販売機=\n",
            "コーラ：150円\n",
            "オレンジジュース：120円\n",
            "選んだジュースと投入金額を入力してください。\n",
            "お釣りは出ません。\n",
            "==========\n",
            "選んだジュース：コーラ\n",
            "投入金額：500\n",
            "購入完了\n"
          ]
        }
      ]
    },
    {
      "cell_type": "code",
      "metadata": {
        "colab": {
          "base_uri": "https://localhost:8080/",
          "height": 168
        },
        "id": "ypLAhnukNeyz",
        "outputId": "bf4fa729-2df2-47d9-ac88-aa5ea377e082"
      },
      "source": [
        "raise ValueError"
      ],
      "execution_count": 37,
      "outputs": [
        {
          "output_type": "error",
          "ename": "ValueError",
          "evalue": "ignored",
          "traceback": [
            "\u001b[0;31m---------------------------------------------------------------------------\u001b[0m",
            "\u001b[0;31mValueError\u001b[0m                                Traceback (most recent call last)",
            "\u001b[0;32m<ipython-input-37-e4c8e09828d5>\u001b[0m in \u001b[0;36m<module>\u001b[0;34m()\u001b[0m\n\u001b[0;32m----> 1\u001b[0;31m \u001b[0;32mraise\u001b[0m \u001b[0mValueError\u001b[0m\u001b[0;34m\u001b[0m\u001b[0;34m\u001b[0m\u001b[0m\n\u001b[0m",
            "\u001b[0;31mValueError\u001b[0m: "
          ]
        }
      ]
    },
    {
      "cell_type": "code",
      "metadata": {
        "colab": {
          "base_uri": "https://localhost:8080/",
          "height": 168
        },
        "id": "vvtw35wMOib_",
        "outputId": "6602f9ee-afd6-47fd-b761-2885e0f20ce3"
      },
      "source": [
        "raise TypeError"
      ],
      "execution_count": 38,
      "outputs": [
        {
          "output_type": "error",
          "ename": "TypeError",
          "evalue": "ignored",
          "traceback": [
            "\u001b[0;31m---------------------------------------------------------------------------\u001b[0m",
            "\u001b[0;31mTypeError\u001b[0m                                 Traceback (most recent call last)",
            "\u001b[0;32m<ipython-input-38-edb832a6149f>\u001b[0m in \u001b[0;36m<module>\u001b[0;34m()\u001b[0m\n\u001b[0;32m----> 1\u001b[0;31m \u001b[0;32mraise\u001b[0m \u001b[0mTypeError\u001b[0m\u001b[0;34m\u001b[0m\u001b[0;34m\u001b[0m\u001b[0m\n\u001b[0m",
            "\u001b[0;31mTypeError\u001b[0m: "
          ]
        }
      ]
    },
    {
      "cell_type": "code",
      "metadata": {
        "colab": {
          "base_uri": "https://localhost:8080/",
          "height": 168
        },
        "id": "F2UILCgMOnlD",
        "outputId": "ba0ea121-b310-4409-ceab-12f0fe5c8167"
      },
      "source": [
        "raise ZeroDivisionError(\"0で割ることはできません。\")"
      ],
      "execution_count": 39,
      "outputs": [
        {
          "output_type": "error",
          "ename": "ZeroDivisionError",
          "evalue": "ignored",
          "traceback": [
            "\u001b[0;31m---------------------------------------------------------------------------\u001b[0m",
            "\u001b[0;31mZeroDivisionError\u001b[0m                         Traceback (most recent call last)",
            "\u001b[0;32m<ipython-input-39-7d60b0547b3d>\u001b[0m in \u001b[0;36m<module>\u001b[0;34m()\u001b[0m\n\u001b[0;32m----> 1\u001b[0;31m \u001b[0;32mraise\u001b[0m \u001b[0mZeroDivisionError\u001b[0m\u001b[0;34m(\u001b[0m\u001b[0;34m\"0で割ることはできません。\"\u001b[0m\u001b[0;34m)\u001b[0m\u001b[0;34m\u001b[0m\u001b[0;34m\u001b[0m\u001b[0m\n\u001b[0m",
            "\u001b[0;31mZeroDivisionError\u001b[0m: 0で割ることはできません。"
          ]
        }
      ]
    },
    {
      "cell_type": "code",
      "metadata": {
        "colab": {
          "base_uri": "https://localhost:8080/",
          "height": 168
        },
        "id": "gKPII1w8OyKL",
        "outputId": "8c9b7c6b-fa3e-412e-a5a0-8a5c273f92fc"
      },
      "source": [
        "raise ZeroDivisionError"
      ],
      "execution_count": 40,
      "outputs": [
        {
          "output_type": "error",
          "ename": "ZeroDivisionError",
          "evalue": "ignored",
          "traceback": [
            "\u001b[0;31m---------------------------------------------------------------------------\u001b[0m",
            "\u001b[0;31mZeroDivisionError\u001b[0m                         Traceback (most recent call last)",
            "\u001b[0;32m<ipython-input-40-c62fc6984c64>\u001b[0m in \u001b[0;36m<module>\u001b[0;34m()\u001b[0m\n\u001b[0;32m----> 1\u001b[0;31m \u001b[0;32mraise\u001b[0m \u001b[0mZeroDivisionError\u001b[0m\u001b[0;34m\u001b[0m\u001b[0;34m\u001b[0m\u001b[0m\n\u001b[0m",
            "\u001b[0;31mZeroDivisionError\u001b[0m: "
          ]
        }
      ]
    },
    {
      "cell_type": "code",
      "metadata": {
        "colab": {
          "base_uri": "https://localhost:8080/",
          "height": 168
        },
        "id": "_mzSmyOHO1x2",
        "outputId": "33efa91c-aba9-403f-aea1-e2c221856e8f"
      },
      "source": [
        "raise ZeroDivisionError(\"0で割れないよ！\")"
      ],
      "execution_count": 41,
      "outputs": [
        {
          "output_type": "error",
          "ename": "ZeroDivisionError",
          "evalue": "ignored",
          "traceback": [
            "\u001b[0;31m---------------------------------------------------------------------------\u001b[0m",
            "\u001b[0;31mZeroDivisionError\u001b[0m                         Traceback (most recent call last)",
            "\u001b[0;32m<ipython-input-41-65b7c6a40318>\u001b[0m in \u001b[0;36m<module>\u001b[0;34m()\u001b[0m\n\u001b[0;32m----> 1\u001b[0;31m \u001b[0;32mraise\u001b[0m \u001b[0mZeroDivisionError\u001b[0m\u001b[0;34m(\u001b[0m\u001b[0;34m\"0で割れないよ！\"\u001b[0m\u001b[0;34m)\u001b[0m\u001b[0;34m\u001b[0m\u001b[0;34m\u001b[0m\u001b[0m\n\u001b[0m",
            "\u001b[0;31mZeroDivisionError\u001b[0m: 0で割れないよ！"
          ]
        }
      ]
    },
    {
      "cell_type": "code",
      "metadata": {
        "colab": {
          "base_uri": "https://localhost:8080/",
          "height": 270
        },
        "id": "Zr_myHReO9Gh",
        "outputId": "ebcf59ee-0722-438f-d014-2863bb58cb81"
      },
      "source": [
        "try:\n",
        "    x = int(input(\"整数値を入れてください。\"))\n",
        "except ValueError:\n",
        "    print(\"不正な値が入力されました。\")\n",
        "    raise"
      ],
      "execution_count": 44,
      "outputs": [
        {
          "output_type": "stream",
          "name": "stdout",
          "text": [
            "整数値を入れてください。a\n",
            "不正な値が入力されました。\n"
          ]
        },
        {
          "output_type": "error",
          "ename": "ValueError",
          "evalue": "ignored",
          "traceback": [
            "\u001b[0;31m---------------------------------------------------------------------------\u001b[0m",
            "\u001b[0;31mValueError\u001b[0m                                Traceback (most recent call last)",
            "\u001b[0;32m<ipython-input-44-ef9cde3412b8>\u001b[0m in \u001b[0;36m<module>\u001b[0;34m()\u001b[0m\n\u001b[1;32m      1\u001b[0m \u001b[0;32mtry\u001b[0m\u001b[0;34m:\u001b[0m\u001b[0;34m\u001b[0m\u001b[0;34m\u001b[0m\u001b[0m\n\u001b[0;32m----> 2\u001b[0;31m     \u001b[0mx\u001b[0m \u001b[0;34m=\u001b[0m \u001b[0mint\u001b[0m\u001b[0;34m(\u001b[0m\u001b[0minput\u001b[0m\u001b[0;34m(\u001b[0m\u001b[0;34m\"整数値を入れてください。\"\u001b[0m\u001b[0;34m)\u001b[0m\u001b[0;34m)\u001b[0m\u001b[0;34m\u001b[0m\u001b[0;34m\u001b[0m\u001b[0m\n\u001b[0m\u001b[1;32m      3\u001b[0m \u001b[0;32mexcept\u001b[0m \u001b[0mValueError\u001b[0m\u001b[0;34m:\u001b[0m\u001b[0;34m\u001b[0m\u001b[0;34m\u001b[0m\u001b[0m\n\u001b[1;32m      4\u001b[0m     \u001b[0mprint\u001b[0m\u001b[0;34m(\u001b[0m\u001b[0;34m\"不正な値が入力されました。\"\u001b[0m\u001b[0;34m)\u001b[0m\u001b[0;34m\u001b[0m\u001b[0;34m\u001b[0m\u001b[0m\n\u001b[1;32m      5\u001b[0m     \u001b[0;32mraise\u001b[0m\u001b[0;34m\u001b[0m\u001b[0;34m\u001b[0m\u001b[0m\n",
            "\u001b[0;31mValueError\u001b[0m: invalid literal for int() with base 10: 'a'"
          ]
        }
      ]
    },
    {
      "cell_type": "code",
      "metadata": {
        "id": "5YFv_bYMPduc"
      },
      "source": [
        "def func1(x):\n",
        "    try:\n",
        "        return 1 / x\n",
        "    except ZeroDivisionError:\n",
        "        print(\"0で割ることはできません。\")\n",
        "\n",
        "def test(x):\n",
        "    try:\n",
        "        x = func1(0)\n",
        "    except:\n",
        "        print(\"何らかの例外が発生しました。\")\n",
        "        raise\n",
        "    else:\n",
        "        print(\"例外は発生しませんでした。\")"
      ],
      "execution_count": 45,
      "outputs": []
    },
    {
      "cell_type": "code",
      "metadata": {
        "colab": {
          "base_uri": "https://localhost:8080/"
        },
        "id": "q_h7ElD8QoVo",
        "outputId": "c44cafb5-d45e-4a3d-bbf1-4cfa29bd6a97"
      },
      "source": [
        "test(0)"
      ],
      "execution_count": 46,
      "outputs": [
        {
          "output_type": "stream",
          "name": "stdout",
          "text": [
            "0で割ることはできません。\n",
            "例外は発生しませんでした。\n"
          ]
        }
      ]
    },
    {
      "cell_type": "code",
      "metadata": {
        "id": "gn1vq6NuQrA8"
      },
      "source": [
        "def func1(x):\n",
        "    try:\n",
        "        return 1 / x\n",
        "    except ZeroDivisionError:\n",
        "        print(\"零割りが発生しました。\")\n",
        "        raise\n",
        "\n",
        "def test(x):\n",
        "    try:\n",
        "        func1(0)\n",
        "    except:\n",
        "        print(\"何らかの例外が発生しました。\")\n",
        "        raise\n",
        "    else:\n",
        "        print(\"この関数では例外は発生しませんでした。\")"
      ],
      "execution_count": 51,
      "outputs": []
    },
    {
      "cell_type": "code",
      "metadata": {
        "colab": {
          "base_uri": "https://localhost:8080/",
          "height": 345
        },
        "id": "DGzdEErCSJD_",
        "outputId": "dd8f20ad-c28f-4986-995f-d30b26c26bec"
      },
      "source": [
        "test(0)"
      ],
      "execution_count": 52,
      "outputs": [
        {
          "output_type": "stream",
          "name": "stdout",
          "text": [
            "零割りが発生しました。\n",
            "何らかの例外が発生しました。\n"
          ]
        },
        {
          "output_type": "error",
          "ename": "ZeroDivisionError",
          "evalue": "ignored",
          "traceback": [
            "\u001b[0;31m---------------------------------------------------------------------------\u001b[0m",
            "\u001b[0;31mZeroDivisionError\u001b[0m                         Traceback (most recent call last)",
            "\u001b[0;32m<ipython-input-52-9ef624c49652>\u001b[0m in \u001b[0;36m<module>\u001b[0;34m()\u001b[0m\n\u001b[0;32m----> 1\u001b[0;31m \u001b[0mtest\u001b[0m\u001b[0;34m(\u001b[0m\u001b[0;36m0\u001b[0m\u001b[0;34m)\u001b[0m\u001b[0;34m\u001b[0m\u001b[0;34m\u001b[0m\u001b[0m\n\u001b[0m",
            "\u001b[0;32m<ipython-input-51-9eaa3ab089a0>\u001b[0m in \u001b[0;36mtest\u001b[0;34m(x)\u001b[0m\n\u001b[1;32m      8\u001b[0m \u001b[0;32mdef\u001b[0m \u001b[0mtest\u001b[0m\u001b[0;34m(\u001b[0m\u001b[0mx\u001b[0m\u001b[0;34m)\u001b[0m\u001b[0;34m:\u001b[0m\u001b[0;34m\u001b[0m\u001b[0;34m\u001b[0m\u001b[0m\n\u001b[1;32m      9\u001b[0m     \u001b[0;32mtry\u001b[0m\u001b[0;34m:\u001b[0m\u001b[0;34m\u001b[0m\u001b[0;34m\u001b[0m\u001b[0m\n\u001b[0;32m---> 10\u001b[0;31m         \u001b[0mfunc1\u001b[0m\u001b[0;34m(\u001b[0m\u001b[0;36m0\u001b[0m\u001b[0;34m)\u001b[0m\u001b[0;34m\u001b[0m\u001b[0;34m\u001b[0m\u001b[0m\n\u001b[0m\u001b[1;32m     11\u001b[0m     \u001b[0;32mexcept\u001b[0m\u001b[0;34m:\u001b[0m\u001b[0;34m\u001b[0m\u001b[0;34m\u001b[0m\u001b[0m\n\u001b[1;32m     12\u001b[0m         \u001b[0mprint\u001b[0m\u001b[0;34m(\u001b[0m\u001b[0;34m\"何らかの例外が発生しました。\"\u001b[0m\u001b[0;34m)\u001b[0m\u001b[0;34m\u001b[0m\u001b[0;34m\u001b[0m\u001b[0m\n",
            "\u001b[0;32m<ipython-input-51-9eaa3ab089a0>\u001b[0m in \u001b[0;36mfunc1\u001b[0;34m(x)\u001b[0m\n\u001b[1;32m      1\u001b[0m \u001b[0;32mdef\u001b[0m \u001b[0mfunc1\u001b[0m\u001b[0;34m(\u001b[0m\u001b[0mx\u001b[0m\u001b[0;34m)\u001b[0m\u001b[0;34m:\u001b[0m\u001b[0;34m\u001b[0m\u001b[0;34m\u001b[0m\u001b[0m\n\u001b[1;32m      2\u001b[0m     \u001b[0;32mtry\u001b[0m\u001b[0;34m:\u001b[0m\u001b[0;34m\u001b[0m\u001b[0;34m\u001b[0m\u001b[0m\n\u001b[0;32m----> 3\u001b[0;31m         \u001b[0;32mreturn\u001b[0m \u001b[0;36m1\u001b[0m \u001b[0;34m/\u001b[0m \u001b[0mx\u001b[0m\u001b[0;34m\u001b[0m\u001b[0;34m\u001b[0m\u001b[0m\n\u001b[0m\u001b[1;32m      4\u001b[0m     \u001b[0;32mexcept\u001b[0m \u001b[0mZeroDivisionError\u001b[0m\u001b[0;34m:\u001b[0m\u001b[0;34m\u001b[0m\u001b[0;34m\u001b[0m\u001b[0m\n\u001b[1;32m      5\u001b[0m         \u001b[0mprint\u001b[0m\u001b[0;34m(\u001b[0m\u001b[0;34m\"零割りが発生しました。\"\u001b[0m\u001b[0;34m)\u001b[0m\u001b[0;34m\u001b[0m\u001b[0;34m\u001b[0m\u001b[0m\n",
            "\u001b[0;31mZeroDivisionError\u001b[0m: division by zero"
          ]
        }
      ]
    },
    {
      "cell_type": "code",
      "metadata": {
        "colab": {
          "base_uri": "https://localhost:8080/"
        },
        "id": "Iu2XRL1WSKus",
        "outputId": "6b346f80-841c-438a-e093-05162401ba45"
      },
      "source": [
        "try:\n",
        "    raise Exception('spam', 'eggs')\n",
        "except Exception as inst:\n",
        "    print(inst.args)\n",
        "    print(inst)\n",
        "    x, y = inst.args\n",
        "    print('x=', x)\n",
        "    print('y=', y)"
      ],
      "execution_count": 53,
      "outputs": [
        {
          "output_type": "stream",
          "name": "stdout",
          "text": [
            "('spam', 'eggs')\n",
            "('spam', 'eggs')\n",
            "x= spam\n",
            "y= eggs\n"
          ]
        }
      ]
    },
    {
      "cell_type": "code",
      "metadata": {
        "colab": {
          "base_uri": "https://localhost:8080/"
        },
        "id": "O9hUSLPbUD-t",
        "outputId": "74816ea9-d02f-47e6-d6b3-5b4b46831e80"
      },
      "source": [
        "globals()"
      ],
      "execution_count": 54,
      "outputs": [
        {
          "output_type": "execute_result",
          "data": {
            "text/plain": [
              "{'In': ['',\n",
              "  'potato_price = 250\\nprint(potato_price)',\n",
              "  'globals()',\n",
              "  'print(__spec__)',\n",
              "  'print(__builtins__)',\n",
              "  \"num_list = [2, 4, 6, 4, 4, 2, 6]\\nfor i in range(num_list.count(4)):\\n    print(i, end=' ')\",\n",
              "  \"num_list = [2, 4, 6, 4, 4, 2, 6]\\nfor i in range(num_list.count(4)):\\n    print(i, end=' ')\",\n",
              "  '_',\n",
              "  \"num_list = [2, 4, 6, 4, 4, 2, 6]\\nfor i in range(num_list.count(4)):\\n    print(i, end=', ')\",\n",
              "  \"name1, name2, name3, name4 = '', 'suzuki', 'tanaka', 'sato'\\nselected_name = name1 or name2 or name3 or name4\\nprint(selected_name)\",\n",
              "  \"name1, name2, name3, name4 = '', 'suzuki', 'tanaka', 'sato'\\nselected_name = name1 or name2\\nprint(selected_name)\",\n",
              "  \"dic = [\\n       ['Noro', 'Nakao', 'Miyaoka'], \\n       ['Kimura', 'Miyashita', 'shibata'], \\n       ['Matsumoto', 'Tanaka', 'Ivan'], \\n]\\n\\nprint(list(zip(*dic)))\",\n",
              "  'args = [3, 6]\\nlist(range(args))',\n",
              "  'args = [3, 6]\\nlist(range(*args))',\n",
              "  'print(',\n",
              "  \"for i range(5) in:\\n    print('Hello')\",\n",
              "  'c = 0\\nfor i in range(5):\\n    c++\\n    print(c)',\n",
              "  'c = 0\\nfor i in range(5):\\nprint(c)',\n",
              "  '3 / 0',\n",
              "  'name * 3',\n",
              "  '\"a\" + 3',\n",
              "  'int(\"Hello World\")',\n",
              "  'x = int(input(\"数字を入力してください\"))',\n",
              "  'while True:\\n    try:\\n        x = int(input(\"数字を入力してください\"))\\n    except ValueError:\\n        print(\"これは有効な数字ではありません。もう一度入力してください。\")\\n    else:\\n        break',\n",
              "  'def vending_machine():\\n    print(\"==自動販売機==\")\\n    print(\"コーラ：150円\\\\nオレンジジュース：120円\\\\n選んだジュースと投入金額を入力してください。\")\\n    pritn(\"お釣りは出ません。\")\\n    print(\"===========\")\\n\\n    juice_dict = {\"コーラ\": 150, \"オレンジジュース\": 120}\\n\\n    juice = input(\"選んだジュース：\")\\n    price = juice_dict[juice]\\n\\n    in_amount = int(input(\"投入金額：\"))\\n\\n    if in_amount > price:\\n        print(\"購入完了\")\\n    else:\\n        print(\"投入金額が不足しています\")',\n",
              "  'vending_machine()',\n",
              "  'def vending_machine():\\n    print(\"==自動販売機==\")\\n    print(\"コーラ：150円\\\\nオレンジジュース：120円\\\\n選んだジュースと投入金額を入力してください。\")\\n    print(\"お釣りは出ません。\")\\n    print(\"===========\")\\n\\n    juice_dict = {\"コーラ\": 150, \"オレンジジュース\": 120}\\n\\n    juice = input(\"選んだジュース：\")\\n    price = juice_dict[juice]\\n\\n    in_amount = int(input(\"投入金額：\"))\\n\\n    if in_amount > price:\\n        print(\"購入完了\")\\n    else:\\n        print(\"投入金額が不足しています\")',\n",
              "  'vending_machine()',\n",
              "  'vending_machine()',\n",
              "  'vending_machine()',\n",
              "  'vending_machine()',\n",
              "  'def vending_machine():\\n    while True:\\n        print(\"=自動販売機=\")\\n        print(\"コーラ：150円\\\\nオレンジジュース：120円\\\\n選んだジュースと投入金額を入力してください。\")\\n        print(\"お釣りは出ません。\")\\n        print(\"==========\")\\n        juice_dict = {\"コーラ\": 150, \"オレンジジュース\": 120}\\n        juice = input(\"選んだジュース：\")\\n        try:\\n            price = juice_dict[juice]\\n        except KeyError:\\n            print(\"指定されたジュース名を入れてください\")\\n            continue\\n        try:\\n            in_amount = int(input(\"投入金額：\"))\\n        except ValueError:\\n            print(\"半角の整数値を入力してください。\")\\n            continue\\n        if in_amount > price:\\n            print(\"購入完了\")\\n        else:\\n            print(\"投入金が不足しています・・・\")\\n            break',\n",
              "  'vending_machine()',\n",
              "  'def vending_machine():\\n    while True:\\n        print(\"=自動販売機=\")\\n        print(\"コーラ：150円\\\\nオレンジジュース：120円\\\\n選んだジュースと投入金額を入力してください。\")\\n        print(\"お釣りは出ません。\")\\n        print(\"==========\")\\n        juice_dict = {\"コーラ\": 150, \"オレンジジュース\": 120}\\n        try:\\n            juice = input(\"選んだジュース：\")\\n            price = juice_dict[juice]\\n        except KeyError:\\n            print(\"指定されたジュース名を入れてください\")\\n            continue\\n        try:\\n            in_amount = int(input(\"投入金額：\"))\\n        except ValueError:\\n            print(\"半角の整数値を入力してください。\")\\n            continue\\n        if in_amount > price:\\n            print(\"購入完了\")\\n        else:\\n            print(\"投入金が不足しています・・・\")\\n            break',\n",
              "  'vending_machine()',\n",
              "  'def vending_machine():\\n    while True:\\n        print(\"=自動販売機=\")\\n        print(\"コーラ：150円\\\\nオレンジジュース：120円\\\\n選んだジュースと投入金額を入力してください。\")\\n        print(\"お釣りは出ません。\")\\n        print(\"==========\")\\n        juice_dict = {\"コーラ\": 150, \"オレンジジュース\": 120}\\n        try:\\n            juice = input(\"選んだジュース：\")\\n            price = juice_dict[juice]\\n        except KeyError:\\n            print(\"指定されたジュース名を入れてください\")\\n            continue\\n        try:\\n            in_amount = int(input(\"投入金額：\"))\\n        except ValueError:\\n            print(\"半角の整数値を入力してください。\")\\n            continue\\n        if in_amount > price:\\n            print(\"購入完了\")\\n            break\\n        else:\\n            print(\"投入金が不足しています・・・\")\\n            break',\n",
              "  'vending_machine()',\n",
              "  'raise ValueError',\n",
              "  'raise TypeError',\n",
              "  'raise ZeroDivisionError(\"0で割ることはできません。\")',\n",
              "  'raise ZeroDivisionError',\n",
              "  'raise ZeroDivisionError(\"0で割れないよ！\")',\n",
              "  'try:\\n    x = int(input(\"整数値を入れてください。\"))\\nexcept ValueError:\\n    print(\"不正な値が入力されました。\")\\n    raise',\n",
              "  'try:\\n    x = int(input(\"整数値を入れてください。\"))\\nexcept ValueError:\\n    print(\"不正な値が入力されました。\")\\n    # raise',\n",
              "  'try:\\n    x = int(input(\"整数値を入れてください。\"))\\nexcept ValueError:\\n    print(\"不正な値が入力されました。\")\\n    raise',\n",
              "  'def func1(x):\\n    try:\\n        return 1 / x\\n    except ZeroDivisionError:\\n        print(\"0で割ることはできません。\")\\n\\ndef test(x):\\n    try:\\n        x = func1(0)\\n    except:\\n        print(\"何らかの例外が発生しました。\")\\n        raise\\n    else:\\n        print(\"例外は発生しませんでした。\")',\n",
              "  'test(0)',\n",
              "  'def func1(x):\\n    try:\\n        return 1 / x\\n    except ZeroDivisionError:\\n        print(\"零割りが発生しました。\")\\n        raise\\n\\ndef test(x):\\n    try:\\n        func1(0)\\n    except:\\n        print(\"何らかの例外が発生しました。\")\\n        raise\\n    else:\\n        print(\"この関数では例外は発生しませんでした。\")',\n",
              "  'test(0)',\n",
              "  'def func1(x):\\n    try:\\n        return 1 / x\\n    except ZeroDivisionError:\\n        print(\"零割りが発生しました。\")\\n        # raise\\n\\ndef test(x):\\n    try:\\n        func1(0)\\n    except:\\n        print(\"何らかの例外が発生しました。\")\\n        raise\\n    else:\\n        print(\"この関数では例外は発生しませんでした。\")',\n",
              "  'test(0)',\n",
              "  'def func1(x):\\n    try:\\n        return 1 / x\\n    except ZeroDivisionError:\\n        print(\"零割りが発生しました。\")\\n        raise\\n\\ndef test(x):\\n    try:\\n        func1(0)\\n    except:\\n        print(\"何らかの例外が発生しました。\")\\n        raise\\n    else:\\n        print(\"この関数では例外は発生しませんでした。\")',\n",
              "  'test(0)',\n",
              "  \"try:\\n    raise Exception('spam', 'eggs')\\nexcept Exception as inst:\\n    print(inst.args)\\n    print(inst)\\n    x, y = inst.args\\n    print('x=', x)\\n    print('y=', y)\",\n",
              "  'globals()'],\n",
              " 'Out': {2: {...}, 7: {...}, 13: [3, 4, 5]},\n",
              " '_': [3, 4, 5],\n",
              " '_13': [3, 4, 5],\n",
              " '_2': {...},\n",
              " '_7': {...},\n",
              " '__': {...},\n",
              " '___': {...},\n",
              " '__builtin__': <module 'builtins' (built-in)>,\n",
              " '__builtins__': <module 'builtins' (built-in)>,\n",
              " '__doc__': 'Automatically created module for IPython interactive environment',\n",
              " '__loader__': None,\n",
              " '__name__': '__main__',\n",
              " '__package__': None,\n",
              " '__spec__': None,\n",
              " '_dh': ['/content'],\n",
              " '_i': \"try:\\n    raise Exception('spam', 'eggs')\\nexcept Exception as inst:\\n    print(inst.args)\\n    print(inst)\\n    x, y = inst.args\\n    print('x=', x)\\n    print('y=', y)\",\n",
              " '_i1': 'potato_price = 250\\nprint(potato_price)',\n",
              " '_i10': \"name1, name2, name3, name4 = '', 'suzuki', 'tanaka', 'sato'\\nselected_name = name1 or name2\\nprint(selected_name)\",\n",
              " '_i11': \"dic = [\\n       ['Noro', 'Nakao', 'Miyaoka'], \\n       ['Kimura', 'Miyashita', 'shibata'], \\n       ['Matsumoto', 'Tanaka', 'Ivan'], \\n]\\n\\nprint(list(zip(*dic)))\",\n",
              " '_i12': 'args = [3, 6]\\nlist(range(args))',\n",
              " '_i13': 'args = [3, 6]\\nlist(range(*args))',\n",
              " '_i14': 'print(',\n",
              " '_i15': \"for i range(5) in:\\n    print('Hello')\",\n",
              " '_i16': 'c = 0\\nfor i in range(5):\\n    c++\\n    print(c)',\n",
              " '_i17': 'c = 0\\nfor i in range(5):\\nprint(c)',\n",
              " '_i18': '3 / 0',\n",
              " '_i19': 'name * 3',\n",
              " '_i2': 'globals()',\n",
              " '_i20': '\"a\" + 3',\n",
              " '_i21': 'int(\"Hello World\")',\n",
              " '_i22': 'x = int(input(\"数字を入力してください\"))',\n",
              " '_i23': 'while True:\\n    try:\\n        x = int(input(\"数字を入力してください\"))\\n    except ValueError:\\n        print(\"これは有効な数字ではありません。もう一度入力してください。\")\\n    else:\\n        break',\n",
              " '_i24': 'def vending_machine():\\n    print(\"==自動販売機==\")\\n    print(\"コーラ：150円\\\\nオレンジジュース：120円\\\\n選んだジュースと投入金額を入力してください。\")\\n    pritn(\"お釣りは出ません。\")\\n    print(\"===========\")\\n\\n    juice_dict = {\"コーラ\": 150, \"オレンジジュース\": 120}\\n\\n    juice = input(\"選んだジュース：\")\\n    price = juice_dict[juice]\\n\\n    in_amount = int(input(\"投入金額：\"))\\n\\n    if in_amount > price:\\n        print(\"購入完了\")\\n    else:\\n        print(\"投入金額が不足しています\")',\n",
              " '_i25': 'vending_machine()',\n",
              " '_i26': 'def vending_machine():\\n    print(\"==自動販売機==\")\\n    print(\"コーラ：150円\\\\nオレンジジュース：120円\\\\n選んだジュースと投入金額を入力してください。\")\\n    print(\"お釣りは出ません。\")\\n    print(\"===========\")\\n\\n    juice_dict = {\"コーラ\": 150, \"オレンジジュース\": 120}\\n\\n    juice = input(\"選んだジュース：\")\\n    price = juice_dict[juice]\\n\\n    in_amount = int(input(\"投入金額：\"))\\n\\n    if in_amount > price:\\n        print(\"購入完了\")\\n    else:\\n        print(\"投入金額が不足しています\")',\n",
              " '_i27': 'vending_machine()',\n",
              " '_i28': 'vending_machine()',\n",
              " '_i29': 'vending_machine()',\n",
              " '_i3': 'print(__spec__)',\n",
              " '_i30': 'vending_machine()',\n",
              " '_i31': 'def vending_machine():\\n    while True:\\n        print(\"=自動販売機=\")\\n        print(\"コーラ：150円\\\\nオレンジジュース：120円\\\\n選んだジュースと投入金額を入力してください。\")\\n        print(\"お釣りは出ません。\")\\n        print(\"==========\")\\n        juice_dict = {\"コーラ\": 150, \"オレンジジュース\": 120}\\n        juice = input(\"選んだジュース：\")\\n        try:\\n            price = juice_dict[juice]\\n        except KeyError:\\n            print(\"指定されたジュース名を入れてください\")\\n            continue\\n        try:\\n            in_amount = int(input(\"投入金額：\"))\\n        except ValueError:\\n            print(\"半角の整数値を入力してください。\")\\n            continue\\n        if in_amount > price:\\n            print(\"購入完了\")\\n        else:\\n            print(\"投入金が不足しています・・・\")\\n            break',\n",
              " '_i32': 'vending_machine()',\n",
              " '_i33': 'def vending_machine():\\n    while True:\\n        print(\"=自動販売機=\")\\n        print(\"コーラ：150円\\\\nオレンジジュース：120円\\\\n選んだジュースと投入金額を入力してください。\")\\n        print(\"お釣りは出ません。\")\\n        print(\"==========\")\\n        juice_dict = {\"コーラ\": 150, \"オレンジジュース\": 120}\\n        try:\\n            juice = input(\"選んだジュース：\")\\n            price = juice_dict[juice]\\n        except KeyError:\\n            print(\"指定されたジュース名を入れてください\")\\n            continue\\n        try:\\n            in_amount = int(input(\"投入金額：\"))\\n        except ValueError:\\n            print(\"半角の整数値を入力してください。\")\\n            continue\\n        if in_amount > price:\\n            print(\"購入完了\")\\n        else:\\n            print(\"投入金が不足しています・・・\")\\n            break',\n",
              " '_i34': 'vending_machine()',\n",
              " '_i35': 'def vending_machine():\\n    while True:\\n        print(\"=自動販売機=\")\\n        print(\"コーラ：150円\\\\nオレンジジュース：120円\\\\n選んだジュースと投入金額を入力してください。\")\\n        print(\"お釣りは出ません。\")\\n        print(\"==========\")\\n        juice_dict = {\"コーラ\": 150, \"オレンジジュース\": 120}\\n        try:\\n            juice = input(\"選んだジュース：\")\\n            price = juice_dict[juice]\\n        except KeyError:\\n            print(\"指定されたジュース名を入れてください\")\\n            continue\\n        try:\\n            in_amount = int(input(\"投入金額：\"))\\n        except ValueError:\\n            print(\"半角の整数値を入力してください。\")\\n            continue\\n        if in_amount > price:\\n            print(\"購入完了\")\\n            break\\n        else:\\n            print(\"投入金が不足しています・・・\")\\n            break',\n",
              " '_i36': 'vending_machine()',\n",
              " '_i37': 'raise ValueError',\n",
              " '_i38': 'raise TypeError',\n",
              " '_i39': 'raise ZeroDivisionError(\"0で割ることはできません。\")',\n",
              " '_i4': 'print(__builtins__)',\n",
              " '_i40': 'raise ZeroDivisionError',\n",
              " '_i41': 'raise ZeroDivisionError(\"0で割れないよ！\")',\n",
              " '_i42': 'try:\\n    x = int(input(\"整数値を入れてください。\"))\\nexcept ValueError:\\n    print(\"不正な値が入力されました。\")\\n    raise',\n",
              " '_i43': 'try:\\n    x = int(input(\"整数値を入れてください。\"))\\nexcept ValueError:\\n    print(\"不正な値が入力されました。\")\\n    # raise',\n",
              " '_i44': 'try:\\n    x = int(input(\"整数値を入れてください。\"))\\nexcept ValueError:\\n    print(\"不正な値が入力されました。\")\\n    raise',\n",
              " '_i45': 'def func1(x):\\n    try:\\n        return 1 / x\\n    except ZeroDivisionError:\\n        print(\"0で割ることはできません。\")\\n\\ndef test(x):\\n    try:\\n        x = func1(0)\\n    except:\\n        print(\"何らかの例外が発生しました。\")\\n        raise\\n    else:\\n        print(\"例外は発生しませんでした。\")',\n",
              " '_i46': 'test(0)',\n",
              " '_i47': 'def func1(x):\\n    try:\\n        return 1 / x\\n    except ZeroDivisionError:\\n        print(\"零割りが発生しました。\")\\n        raise\\n\\ndef test(x):\\n    try:\\n        func1(0)\\n    except:\\n        print(\"何らかの例外が発生しました。\")\\n        raise\\n    else:\\n        print(\"この関数では例外は発生しませんでした。\")',\n",
              " '_i48': 'test(0)',\n",
              " '_i49': 'def func1(x):\\n    try:\\n        return 1 / x\\n    except ZeroDivisionError:\\n        print(\"零割りが発生しました。\")\\n        # raise\\n\\ndef test(x):\\n    try:\\n        func1(0)\\n    except:\\n        print(\"何らかの例外が発生しました。\")\\n        raise\\n    else:\\n        print(\"この関数では例外は発生しませんでした。\")',\n",
              " '_i5': \"num_list = [2, 4, 6, 4, 4, 2, 6]\\nfor i in range(num_list.count(4)):\\n    print(i, end=' ')\",\n",
              " '_i50': 'test(0)',\n",
              " '_i51': 'def func1(x):\\n    try:\\n        return 1 / x\\n    except ZeroDivisionError:\\n        print(\"零割りが発生しました。\")\\n        raise\\n\\ndef test(x):\\n    try:\\n        func1(0)\\n    except:\\n        print(\"何らかの例外が発生しました。\")\\n        raise\\n    else:\\n        print(\"この関数では例外は発生しませんでした。\")',\n",
              " '_i52': 'test(0)',\n",
              " '_i53': \"try:\\n    raise Exception('spam', 'eggs')\\nexcept Exception as inst:\\n    print(inst.args)\\n    print(inst)\\n    x, y = inst.args\\n    print('x=', x)\\n    print('y=', y)\",\n",
              " '_i54': 'globals()',\n",
              " '_i6': \"num_list = [2, 4, 6, 4, 4, 2, 6]\\nfor i in range(num_list.count(4)):\\n    print(i, end=' ')\",\n",
              " '_i7': '_',\n",
              " '_i8': \"num_list = [2, 4, 6, 4, 4, 2, 6]\\nfor i in range(num_list.count(4)):\\n    print(i, end=', ')\",\n",
              " '_i9': \"name1, name2, name3, name4 = '', 'suzuki', 'tanaka', 'sato'\\nselected_name = name1 or name2 or name3 or name4\\nprint(selected_name)\",\n",
              " '_ih': ['',\n",
              "  'potato_price = 250\\nprint(potato_price)',\n",
              "  'globals()',\n",
              "  'print(__spec__)',\n",
              "  'print(__builtins__)',\n",
              "  \"num_list = [2, 4, 6, 4, 4, 2, 6]\\nfor i in range(num_list.count(4)):\\n    print(i, end=' ')\",\n",
              "  \"num_list = [2, 4, 6, 4, 4, 2, 6]\\nfor i in range(num_list.count(4)):\\n    print(i, end=' ')\",\n",
              "  '_',\n",
              "  \"num_list = [2, 4, 6, 4, 4, 2, 6]\\nfor i in range(num_list.count(4)):\\n    print(i, end=', ')\",\n",
              "  \"name1, name2, name3, name4 = '', 'suzuki', 'tanaka', 'sato'\\nselected_name = name1 or name2 or name3 or name4\\nprint(selected_name)\",\n",
              "  \"name1, name2, name3, name4 = '', 'suzuki', 'tanaka', 'sato'\\nselected_name = name1 or name2\\nprint(selected_name)\",\n",
              "  \"dic = [\\n       ['Noro', 'Nakao', 'Miyaoka'], \\n       ['Kimura', 'Miyashita', 'shibata'], \\n       ['Matsumoto', 'Tanaka', 'Ivan'], \\n]\\n\\nprint(list(zip(*dic)))\",\n",
              "  'args = [3, 6]\\nlist(range(args))',\n",
              "  'args = [3, 6]\\nlist(range(*args))',\n",
              "  'print(',\n",
              "  \"for i range(5) in:\\n    print('Hello')\",\n",
              "  'c = 0\\nfor i in range(5):\\n    c++\\n    print(c)',\n",
              "  'c = 0\\nfor i in range(5):\\nprint(c)',\n",
              "  '3 / 0',\n",
              "  'name * 3',\n",
              "  '\"a\" + 3',\n",
              "  'int(\"Hello World\")',\n",
              "  'x = int(input(\"数字を入力してください\"))',\n",
              "  'while True:\\n    try:\\n        x = int(input(\"数字を入力してください\"))\\n    except ValueError:\\n        print(\"これは有効な数字ではありません。もう一度入力してください。\")\\n    else:\\n        break',\n",
              "  'def vending_machine():\\n    print(\"==自動販売機==\")\\n    print(\"コーラ：150円\\\\nオレンジジュース：120円\\\\n選んだジュースと投入金額を入力してください。\")\\n    pritn(\"お釣りは出ません。\")\\n    print(\"===========\")\\n\\n    juice_dict = {\"コーラ\": 150, \"オレンジジュース\": 120}\\n\\n    juice = input(\"選んだジュース：\")\\n    price = juice_dict[juice]\\n\\n    in_amount = int(input(\"投入金額：\"))\\n\\n    if in_amount > price:\\n        print(\"購入完了\")\\n    else:\\n        print(\"投入金額が不足しています\")',\n",
              "  'vending_machine()',\n",
              "  'def vending_machine():\\n    print(\"==自動販売機==\")\\n    print(\"コーラ：150円\\\\nオレンジジュース：120円\\\\n選んだジュースと投入金額を入力してください。\")\\n    print(\"お釣りは出ません。\")\\n    print(\"===========\")\\n\\n    juice_dict = {\"コーラ\": 150, \"オレンジジュース\": 120}\\n\\n    juice = input(\"選んだジュース：\")\\n    price = juice_dict[juice]\\n\\n    in_amount = int(input(\"投入金額：\"))\\n\\n    if in_amount > price:\\n        print(\"購入完了\")\\n    else:\\n        print(\"投入金額が不足しています\")',\n",
              "  'vending_machine()',\n",
              "  'vending_machine()',\n",
              "  'vending_machine()',\n",
              "  'vending_machine()',\n",
              "  'def vending_machine():\\n    while True:\\n        print(\"=自動販売機=\")\\n        print(\"コーラ：150円\\\\nオレンジジュース：120円\\\\n選んだジュースと投入金額を入力してください。\")\\n        print(\"お釣りは出ません。\")\\n        print(\"==========\")\\n        juice_dict = {\"コーラ\": 150, \"オレンジジュース\": 120}\\n        juice = input(\"選んだジュース：\")\\n        try:\\n            price = juice_dict[juice]\\n        except KeyError:\\n            print(\"指定されたジュース名を入れてください\")\\n            continue\\n        try:\\n            in_amount = int(input(\"投入金額：\"))\\n        except ValueError:\\n            print(\"半角の整数値を入力してください。\")\\n            continue\\n        if in_amount > price:\\n            print(\"購入完了\")\\n        else:\\n            print(\"投入金が不足しています・・・\")\\n            break',\n",
              "  'vending_machine()',\n",
              "  'def vending_machine():\\n    while True:\\n        print(\"=自動販売機=\")\\n        print(\"コーラ：150円\\\\nオレンジジュース：120円\\\\n選んだジュースと投入金額を入力してください。\")\\n        print(\"お釣りは出ません。\")\\n        print(\"==========\")\\n        juice_dict = {\"コーラ\": 150, \"オレンジジュース\": 120}\\n        try:\\n            juice = input(\"選んだジュース：\")\\n            price = juice_dict[juice]\\n        except KeyError:\\n            print(\"指定されたジュース名を入れてください\")\\n            continue\\n        try:\\n            in_amount = int(input(\"投入金額：\"))\\n        except ValueError:\\n            print(\"半角の整数値を入力してください。\")\\n            continue\\n        if in_amount > price:\\n            print(\"購入完了\")\\n        else:\\n            print(\"投入金が不足しています・・・\")\\n            break',\n",
              "  'vending_machine()',\n",
              "  'def vending_machine():\\n    while True:\\n        print(\"=自動販売機=\")\\n        print(\"コーラ：150円\\\\nオレンジジュース：120円\\\\n選んだジュースと投入金額を入力してください。\")\\n        print(\"お釣りは出ません。\")\\n        print(\"==========\")\\n        juice_dict = {\"コーラ\": 150, \"オレンジジュース\": 120}\\n        try:\\n            juice = input(\"選んだジュース：\")\\n            price = juice_dict[juice]\\n        except KeyError:\\n            print(\"指定されたジュース名を入れてください\")\\n            continue\\n        try:\\n            in_amount = int(input(\"投入金額：\"))\\n        except ValueError:\\n            print(\"半角の整数値を入力してください。\")\\n            continue\\n        if in_amount > price:\\n            print(\"購入完了\")\\n            break\\n        else:\\n            print(\"投入金が不足しています・・・\")\\n            break',\n",
              "  'vending_machine()',\n",
              "  'raise ValueError',\n",
              "  'raise TypeError',\n",
              "  'raise ZeroDivisionError(\"0で割ることはできません。\")',\n",
              "  'raise ZeroDivisionError',\n",
              "  'raise ZeroDivisionError(\"0で割れないよ！\")',\n",
              "  'try:\\n    x = int(input(\"整数値を入れてください。\"))\\nexcept ValueError:\\n    print(\"不正な値が入力されました。\")\\n    raise',\n",
              "  'try:\\n    x = int(input(\"整数値を入れてください。\"))\\nexcept ValueError:\\n    print(\"不正な値が入力されました。\")\\n    # raise',\n",
              "  'try:\\n    x = int(input(\"整数値を入れてください。\"))\\nexcept ValueError:\\n    print(\"不正な値が入力されました。\")\\n    raise',\n",
              "  'def func1(x):\\n    try:\\n        return 1 / x\\n    except ZeroDivisionError:\\n        print(\"0で割ることはできません。\")\\n\\ndef test(x):\\n    try:\\n        x = func1(0)\\n    except:\\n        print(\"何らかの例外が発生しました。\")\\n        raise\\n    else:\\n        print(\"例外は発生しませんでした。\")',\n",
              "  'test(0)',\n",
              "  'def func1(x):\\n    try:\\n        return 1 / x\\n    except ZeroDivisionError:\\n        print(\"零割りが発生しました。\")\\n        raise\\n\\ndef test(x):\\n    try:\\n        func1(0)\\n    except:\\n        print(\"何らかの例外が発生しました。\")\\n        raise\\n    else:\\n        print(\"この関数では例外は発生しませんでした。\")',\n",
              "  'test(0)',\n",
              "  'def func1(x):\\n    try:\\n        return 1 / x\\n    except ZeroDivisionError:\\n        print(\"零割りが発生しました。\")\\n        # raise\\n\\ndef test(x):\\n    try:\\n        func1(0)\\n    except:\\n        print(\"何らかの例外が発生しました。\")\\n        raise\\n    else:\\n        print(\"この関数では例外は発生しませんでした。\")',\n",
              "  'test(0)',\n",
              "  'def func1(x):\\n    try:\\n        return 1 / x\\n    except ZeroDivisionError:\\n        print(\"零割りが発生しました。\")\\n        raise\\n\\ndef test(x):\\n    try:\\n        func1(0)\\n    except:\\n        print(\"何らかの例外が発生しました。\")\\n        raise\\n    else:\\n        print(\"この関数では例外は発生しませんでした。\")',\n",
              "  'test(0)',\n",
              "  \"try:\\n    raise Exception('spam', 'eggs')\\nexcept Exception as inst:\\n    print(inst.args)\\n    print(inst)\\n    x, y = inst.args\\n    print('x=', x)\\n    print('y=', y)\",\n",
              "  'globals()'],\n",
              " '_ii': 'test(0)',\n",
              " '_iii': 'def func1(x):\\n    try:\\n        return 1 / x\\n    except ZeroDivisionError:\\n        print(\"零割りが発生しました。\")\\n        raise\\n\\ndef test(x):\\n    try:\\n        func1(0)\\n    except:\\n        print(\"何らかの例外が発生しました。\")\\n        raise\\n    else:\\n        print(\"この関数では例外は発生しませんでした。\")',\n",
              " '_oh': {2: {...}, 7: {...}, 13: [3, 4, 5]},\n",
              " '_sh': <module 'IPython.core.shadowns' from '/usr/local/lib/python3.7/dist-packages/IPython/core/shadowns.py'>,\n",
              " 'args': [3, 6],\n",
              " 'dic': [['Noro', 'Nakao', 'Miyaoka'],\n",
              "  ['Kimura', 'Miyashita', 'shibata'],\n",
              "  ['Matsumoto', 'Tanaka', 'Ivan']],\n",
              " 'exit': <IPython.core.autocall.ZMQExitAutocall at 0x7fde87340510>,\n",
              " 'func1': <function __main__.func1>,\n",
              " 'get_ipython': <bound method InteractiveShell.get_ipython of <google.colab._shell.Shell object at 0x7fde875dbe10>>,\n",
              " 'i': 2,\n",
              " 'name1': '',\n",
              " 'name2': 'suzuki',\n",
              " 'name3': 'tanaka',\n",
              " 'name4': 'sato',\n",
              " 'num_list': [2, 4, 6, 4, 4, 2, 6],\n",
              " 'potato_price': 250,\n",
              " 'quit': <IPython.core.autocall.ZMQExitAutocall at 0x7fde87340510>,\n",
              " 'selected_name': 'suzuki',\n",
              " 'test': <function __main__.test>,\n",
              " 'vending_machine': <function __main__.vending_machine>,\n",
              " 'x': 'spam',\n",
              " 'y': 'eggs'}"
            ]
          },
          "metadata": {},
          "execution_count": 54
        }
      ]
    },
    {
      "cell_type": "code",
      "metadata": {
        "colab": {
          "base_uri": "https://localhost:8080/"
        },
        "id": "kC7nZYpeUfJ5",
        "outputId": "a4d4bce6-2568-41aa-b5fc-370514ee2c34"
      },
      "source": [
        "a = \"abcde\"\n",
        "a.__str__"
      ],
      "execution_count": 55,
      "outputs": [
        {
          "output_type": "execute_result",
          "data": {
            "text/plain": [
              "<method-wrapper '__str__' of str object at 0x7fde79159eb0>"
            ]
          },
          "metadata": {},
          "execution_count": 55
        }
      ]
    },
    {
      "cell_type": "code",
      "metadata": {
        "colab": {
          "base_uri": "https://localhost:8080/"
        },
        "id": "zuI9rfPxVkK-",
        "outputId": "767da19f-8cc3-4e5b-9aa1-b8898e591a35"
      },
      "source": [
        "locals()"
      ],
      "execution_count": 56,
      "outputs": [
        {
          "output_type": "execute_result",
          "data": {
            "text/plain": [
              "{'In': ['',\n",
              "  'potato_price = 250\\nprint(potato_price)',\n",
              "  'globals()',\n",
              "  'print(__spec__)',\n",
              "  'print(__builtins__)',\n",
              "  \"num_list = [2, 4, 6, 4, 4, 2, 6]\\nfor i in range(num_list.count(4)):\\n    print(i, end=' ')\",\n",
              "  \"num_list = [2, 4, 6, 4, 4, 2, 6]\\nfor i in range(num_list.count(4)):\\n    print(i, end=' ')\",\n",
              "  '_',\n",
              "  \"num_list = [2, 4, 6, 4, 4, 2, 6]\\nfor i in range(num_list.count(4)):\\n    print(i, end=', ')\",\n",
              "  \"name1, name2, name3, name4 = '', 'suzuki', 'tanaka', 'sato'\\nselected_name = name1 or name2 or name3 or name4\\nprint(selected_name)\",\n",
              "  \"name1, name2, name3, name4 = '', 'suzuki', 'tanaka', 'sato'\\nselected_name = name1 or name2\\nprint(selected_name)\",\n",
              "  \"dic = [\\n       ['Noro', 'Nakao', 'Miyaoka'], \\n       ['Kimura', 'Miyashita', 'shibata'], \\n       ['Matsumoto', 'Tanaka', 'Ivan'], \\n]\\n\\nprint(list(zip(*dic)))\",\n",
              "  'args = [3, 6]\\nlist(range(args))',\n",
              "  'args = [3, 6]\\nlist(range(*args))',\n",
              "  'print(',\n",
              "  \"for i range(5) in:\\n    print('Hello')\",\n",
              "  'c = 0\\nfor i in range(5):\\n    c++\\n    print(c)',\n",
              "  'c = 0\\nfor i in range(5):\\nprint(c)',\n",
              "  '3 / 0',\n",
              "  'name * 3',\n",
              "  '\"a\" + 3',\n",
              "  'int(\"Hello World\")',\n",
              "  'x = int(input(\"数字を入力してください\"))',\n",
              "  'while True:\\n    try:\\n        x = int(input(\"数字を入力してください\"))\\n    except ValueError:\\n        print(\"これは有効な数字ではありません。もう一度入力してください。\")\\n    else:\\n        break',\n",
              "  'def vending_machine():\\n    print(\"==自動販売機==\")\\n    print(\"コーラ：150円\\\\nオレンジジュース：120円\\\\n選んだジュースと投入金額を入力してください。\")\\n    pritn(\"お釣りは出ません。\")\\n    print(\"===========\")\\n\\n    juice_dict = {\"コーラ\": 150, \"オレンジジュース\": 120}\\n\\n    juice = input(\"選んだジュース：\")\\n    price = juice_dict[juice]\\n\\n    in_amount = int(input(\"投入金額：\"))\\n\\n    if in_amount > price:\\n        print(\"購入完了\")\\n    else:\\n        print(\"投入金額が不足しています\")',\n",
              "  'vending_machine()',\n",
              "  'def vending_machine():\\n    print(\"==自動販売機==\")\\n    print(\"コーラ：150円\\\\nオレンジジュース：120円\\\\n選んだジュースと投入金額を入力してください。\")\\n    print(\"お釣りは出ません。\")\\n    print(\"===========\")\\n\\n    juice_dict = {\"コーラ\": 150, \"オレンジジュース\": 120}\\n\\n    juice = input(\"選んだジュース：\")\\n    price = juice_dict[juice]\\n\\n    in_amount = int(input(\"投入金額：\"))\\n\\n    if in_amount > price:\\n        print(\"購入完了\")\\n    else:\\n        print(\"投入金額が不足しています\")',\n",
              "  'vending_machine()',\n",
              "  'vending_machine()',\n",
              "  'vending_machine()',\n",
              "  'vending_machine()',\n",
              "  'def vending_machine():\\n    while True:\\n        print(\"=自動販売機=\")\\n        print(\"コーラ：150円\\\\nオレンジジュース：120円\\\\n選んだジュースと投入金額を入力してください。\")\\n        print(\"お釣りは出ません。\")\\n        print(\"==========\")\\n        juice_dict = {\"コーラ\": 150, \"オレンジジュース\": 120}\\n        juice = input(\"選んだジュース：\")\\n        try:\\n            price = juice_dict[juice]\\n        except KeyError:\\n            print(\"指定されたジュース名を入れてください\")\\n            continue\\n        try:\\n            in_amount = int(input(\"投入金額：\"))\\n        except ValueError:\\n            print(\"半角の整数値を入力してください。\")\\n            continue\\n        if in_amount > price:\\n            print(\"購入完了\")\\n        else:\\n            print(\"投入金が不足しています・・・\")\\n            break',\n",
              "  'vending_machine()',\n",
              "  'def vending_machine():\\n    while True:\\n        print(\"=自動販売機=\")\\n        print(\"コーラ：150円\\\\nオレンジジュース：120円\\\\n選んだジュースと投入金額を入力してください。\")\\n        print(\"お釣りは出ません。\")\\n        print(\"==========\")\\n        juice_dict = {\"コーラ\": 150, \"オレンジジュース\": 120}\\n        try:\\n            juice = input(\"選んだジュース：\")\\n            price = juice_dict[juice]\\n        except KeyError:\\n            print(\"指定されたジュース名を入れてください\")\\n            continue\\n        try:\\n            in_amount = int(input(\"投入金額：\"))\\n        except ValueError:\\n            print(\"半角の整数値を入力してください。\")\\n            continue\\n        if in_amount > price:\\n            print(\"購入完了\")\\n        else:\\n            print(\"投入金が不足しています・・・\")\\n            break',\n",
              "  'vending_machine()',\n",
              "  'def vending_machine():\\n    while True:\\n        print(\"=自動販売機=\")\\n        print(\"コーラ：150円\\\\nオレンジジュース：120円\\\\n選んだジュースと投入金額を入力してください。\")\\n        print(\"お釣りは出ません。\")\\n        print(\"==========\")\\n        juice_dict = {\"コーラ\": 150, \"オレンジジュース\": 120}\\n        try:\\n            juice = input(\"選んだジュース：\")\\n            price = juice_dict[juice]\\n        except KeyError:\\n            print(\"指定されたジュース名を入れてください\")\\n            continue\\n        try:\\n            in_amount = int(input(\"投入金額：\"))\\n        except ValueError:\\n            print(\"半角の整数値を入力してください。\")\\n            continue\\n        if in_amount > price:\\n            print(\"購入完了\")\\n            break\\n        else:\\n            print(\"投入金が不足しています・・・\")\\n            break',\n",
              "  'vending_machine()',\n",
              "  'raise ValueError',\n",
              "  'raise TypeError',\n",
              "  'raise ZeroDivisionError(\"0で割ることはできません。\")',\n",
              "  'raise ZeroDivisionError',\n",
              "  'raise ZeroDivisionError(\"0で割れないよ！\")',\n",
              "  'try:\\n    x = int(input(\"整数値を入れてください。\"))\\nexcept ValueError:\\n    print(\"不正な値が入力されました。\")\\n    raise',\n",
              "  'try:\\n    x = int(input(\"整数値を入れてください。\"))\\nexcept ValueError:\\n    print(\"不正な値が入力されました。\")\\n    # raise',\n",
              "  'try:\\n    x = int(input(\"整数値を入れてください。\"))\\nexcept ValueError:\\n    print(\"不正な値が入力されました。\")\\n    raise',\n",
              "  'def func1(x):\\n    try:\\n        return 1 / x\\n    except ZeroDivisionError:\\n        print(\"0で割ることはできません。\")\\n\\ndef test(x):\\n    try:\\n        x = func1(0)\\n    except:\\n        print(\"何らかの例外が発生しました。\")\\n        raise\\n    else:\\n        print(\"例外は発生しませんでした。\")',\n",
              "  'test(0)',\n",
              "  'def func1(x):\\n    try:\\n        return 1 / x\\n    except ZeroDivisionError:\\n        print(\"零割りが発生しました。\")\\n        raise\\n\\ndef test(x):\\n    try:\\n        func1(0)\\n    except:\\n        print(\"何らかの例外が発生しました。\")\\n        raise\\n    else:\\n        print(\"この関数では例外は発生しませんでした。\")',\n",
              "  'test(0)',\n",
              "  'def func1(x):\\n    try:\\n        return 1 / x\\n    except ZeroDivisionError:\\n        print(\"零割りが発生しました。\")\\n        # raise\\n\\ndef test(x):\\n    try:\\n        func1(0)\\n    except:\\n        print(\"何らかの例外が発生しました。\")\\n        raise\\n    else:\\n        print(\"この関数では例外は発生しませんでした。\")',\n",
              "  'test(0)',\n",
              "  'def func1(x):\\n    try:\\n        return 1 / x\\n    except ZeroDivisionError:\\n        print(\"零割りが発生しました。\")\\n        raise\\n\\ndef test(x):\\n    try:\\n        func1(0)\\n    except:\\n        print(\"何らかの例外が発生しました。\")\\n        raise\\n    else:\\n        print(\"この関数では例外は発生しませんでした。\")',\n",
              "  'test(0)',\n",
              "  \"try:\\n    raise Exception('spam', 'eggs')\\nexcept Exception as inst:\\n    print(inst.args)\\n    print(inst)\\n    x, y = inst.args\\n    print('x=', x)\\n    print('y=', y)\",\n",
              "  'globals()',\n",
              "  'a = \"abcde\"\\na.__str__',\n",
              "  'locals()'],\n",
              " 'Out': {2: {...},\n",
              "  7: {...},\n",
              "  13: [3, 4, 5],\n",
              "  54: {...},\n",
              "  55: <method-wrapper '__str__' of str object at 0x7fde79159eb0>},\n",
              " '_': <method-wrapper '__str__' of str object at 0x7fde79159eb0>,\n",
              " '_13': [3, 4, 5],\n",
              " '_2': {...},\n",
              " '_54': {...},\n",
              " '_55': <method-wrapper '__str__' of str object at 0x7fde79159eb0>,\n",
              " '_7': {...},\n",
              " '__': {...},\n",
              " '___': [3, 4, 5],\n",
              " '__builtin__': <module 'builtins' (built-in)>,\n",
              " '__builtins__': <module 'builtins' (built-in)>,\n",
              " '__doc__': 'Automatically created module for IPython interactive environment',\n",
              " '__loader__': None,\n",
              " '__name__': '__main__',\n",
              " '__package__': None,\n",
              " '__spec__': None,\n",
              " '_dh': ['/content'],\n",
              " '_i': 'a = \"abcde\"\\na.__str__',\n",
              " '_i1': 'potato_price = 250\\nprint(potato_price)',\n",
              " '_i10': \"name1, name2, name3, name4 = '', 'suzuki', 'tanaka', 'sato'\\nselected_name = name1 or name2\\nprint(selected_name)\",\n",
              " '_i11': \"dic = [\\n       ['Noro', 'Nakao', 'Miyaoka'], \\n       ['Kimura', 'Miyashita', 'shibata'], \\n       ['Matsumoto', 'Tanaka', 'Ivan'], \\n]\\n\\nprint(list(zip(*dic)))\",\n",
              " '_i12': 'args = [3, 6]\\nlist(range(args))',\n",
              " '_i13': 'args = [3, 6]\\nlist(range(*args))',\n",
              " '_i14': 'print(',\n",
              " '_i15': \"for i range(5) in:\\n    print('Hello')\",\n",
              " '_i16': 'c = 0\\nfor i in range(5):\\n    c++\\n    print(c)',\n",
              " '_i17': 'c = 0\\nfor i in range(5):\\nprint(c)',\n",
              " '_i18': '3 / 0',\n",
              " '_i19': 'name * 3',\n",
              " '_i2': 'globals()',\n",
              " '_i20': '\"a\" + 3',\n",
              " '_i21': 'int(\"Hello World\")',\n",
              " '_i22': 'x = int(input(\"数字を入力してください\"))',\n",
              " '_i23': 'while True:\\n    try:\\n        x = int(input(\"数字を入力してください\"))\\n    except ValueError:\\n        print(\"これは有効な数字ではありません。もう一度入力してください。\")\\n    else:\\n        break',\n",
              " '_i24': 'def vending_machine():\\n    print(\"==自動販売機==\")\\n    print(\"コーラ：150円\\\\nオレンジジュース：120円\\\\n選んだジュースと投入金額を入力してください。\")\\n    pritn(\"お釣りは出ません。\")\\n    print(\"===========\")\\n\\n    juice_dict = {\"コーラ\": 150, \"オレンジジュース\": 120}\\n\\n    juice = input(\"選んだジュース：\")\\n    price = juice_dict[juice]\\n\\n    in_amount = int(input(\"投入金額：\"))\\n\\n    if in_amount > price:\\n        print(\"購入完了\")\\n    else:\\n        print(\"投入金額が不足しています\")',\n",
              " '_i25': 'vending_machine()',\n",
              " '_i26': 'def vending_machine():\\n    print(\"==自動販売機==\")\\n    print(\"コーラ：150円\\\\nオレンジジュース：120円\\\\n選んだジュースと投入金額を入力してください。\")\\n    print(\"お釣りは出ません。\")\\n    print(\"===========\")\\n\\n    juice_dict = {\"コーラ\": 150, \"オレンジジュース\": 120}\\n\\n    juice = input(\"選んだジュース：\")\\n    price = juice_dict[juice]\\n\\n    in_amount = int(input(\"投入金額：\"))\\n\\n    if in_amount > price:\\n        print(\"購入完了\")\\n    else:\\n        print(\"投入金額が不足しています\")',\n",
              " '_i27': 'vending_machine()',\n",
              " '_i28': 'vending_machine()',\n",
              " '_i29': 'vending_machine()',\n",
              " '_i3': 'print(__spec__)',\n",
              " '_i30': 'vending_machine()',\n",
              " '_i31': 'def vending_machine():\\n    while True:\\n        print(\"=自動販売機=\")\\n        print(\"コーラ：150円\\\\nオレンジジュース：120円\\\\n選んだジュースと投入金額を入力してください。\")\\n        print(\"お釣りは出ません。\")\\n        print(\"==========\")\\n        juice_dict = {\"コーラ\": 150, \"オレンジジュース\": 120}\\n        juice = input(\"選んだジュース：\")\\n        try:\\n            price = juice_dict[juice]\\n        except KeyError:\\n            print(\"指定されたジュース名を入れてください\")\\n            continue\\n        try:\\n            in_amount = int(input(\"投入金額：\"))\\n        except ValueError:\\n            print(\"半角の整数値を入力してください。\")\\n            continue\\n        if in_amount > price:\\n            print(\"購入完了\")\\n        else:\\n            print(\"投入金が不足しています・・・\")\\n            break',\n",
              " '_i32': 'vending_machine()',\n",
              " '_i33': 'def vending_machine():\\n    while True:\\n        print(\"=自動販売機=\")\\n        print(\"コーラ：150円\\\\nオレンジジュース：120円\\\\n選んだジュースと投入金額を入力してください。\")\\n        print(\"お釣りは出ません。\")\\n        print(\"==========\")\\n        juice_dict = {\"コーラ\": 150, \"オレンジジュース\": 120}\\n        try:\\n            juice = input(\"選んだジュース：\")\\n            price = juice_dict[juice]\\n        except KeyError:\\n            print(\"指定されたジュース名を入れてください\")\\n            continue\\n        try:\\n            in_amount = int(input(\"投入金額：\"))\\n        except ValueError:\\n            print(\"半角の整数値を入力してください。\")\\n            continue\\n        if in_amount > price:\\n            print(\"購入完了\")\\n        else:\\n            print(\"投入金が不足しています・・・\")\\n            break',\n",
              " '_i34': 'vending_machine()',\n",
              " '_i35': 'def vending_machine():\\n    while True:\\n        print(\"=自動販売機=\")\\n        print(\"コーラ：150円\\\\nオレンジジュース：120円\\\\n選んだジュースと投入金額を入力してください。\")\\n        print(\"お釣りは出ません。\")\\n        print(\"==========\")\\n        juice_dict = {\"コーラ\": 150, \"オレンジジュース\": 120}\\n        try:\\n            juice = input(\"選んだジュース：\")\\n            price = juice_dict[juice]\\n        except KeyError:\\n            print(\"指定されたジュース名を入れてください\")\\n            continue\\n        try:\\n            in_amount = int(input(\"投入金額：\"))\\n        except ValueError:\\n            print(\"半角の整数値を入力してください。\")\\n            continue\\n        if in_amount > price:\\n            print(\"購入完了\")\\n            break\\n        else:\\n            print(\"投入金が不足しています・・・\")\\n            break',\n",
              " '_i36': 'vending_machine()',\n",
              " '_i37': 'raise ValueError',\n",
              " '_i38': 'raise TypeError',\n",
              " '_i39': 'raise ZeroDivisionError(\"0で割ることはできません。\")',\n",
              " '_i4': 'print(__builtins__)',\n",
              " '_i40': 'raise ZeroDivisionError',\n",
              " '_i41': 'raise ZeroDivisionError(\"0で割れないよ！\")',\n",
              " '_i42': 'try:\\n    x = int(input(\"整数値を入れてください。\"))\\nexcept ValueError:\\n    print(\"不正な値が入力されました。\")\\n    raise',\n",
              " '_i43': 'try:\\n    x = int(input(\"整数値を入れてください。\"))\\nexcept ValueError:\\n    print(\"不正な値が入力されました。\")\\n    # raise',\n",
              " '_i44': 'try:\\n    x = int(input(\"整数値を入れてください。\"))\\nexcept ValueError:\\n    print(\"不正な値が入力されました。\")\\n    raise',\n",
              " '_i45': 'def func1(x):\\n    try:\\n        return 1 / x\\n    except ZeroDivisionError:\\n        print(\"0で割ることはできません。\")\\n\\ndef test(x):\\n    try:\\n        x = func1(0)\\n    except:\\n        print(\"何らかの例外が発生しました。\")\\n        raise\\n    else:\\n        print(\"例外は発生しませんでした。\")',\n",
              " '_i46': 'test(0)',\n",
              " '_i47': 'def func1(x):\\n    try:\\n        return 1 / x\\n    except ZeroDivisionError:\\n        print(\"零割りが発生しました。\")\\n        raise\\n\\ndef test(x):\\n    try:\\n        func1(0)\\n    except:\\n        print(\"何らかの例外が発生しました。\")\\n        raise\\n    else:\\n        print(\"この関数では例外は発生しませんでした。\")',\n",
              " '_i48': 'test(0)',\n",
              " '_i49': 'def func1(x):\\n    try:\\n        return 1 / x\\n    except ZeroDivisionError:\\n        print(\"零割りが発生しました。\")\\n        # raise\\n\\ndef test(x):\\n    try:\\n        func1(0)\\n    except:\\n        print(\"何らかの例外が発生しました。\")\\n        raise\\n    else:\\n        print(\"この関数では例外は発生しませんでした。\")',\n",
              " '_i5': \"num_list = [2, 4, 6, 4, 4, 2, 6]\\nfor i in range(num_list.count(4)):\\n    print(i, end=' ')\",\n",
              " '_i50': 'test(0)',\n",
              " '_i51': 'def func1(x):\\n    try:\\n        return 1 / x\\n    except ZeroDivisionError:\\n        print(\"零割りが発生しました。\")\\n        raise\\n\\ndef test(x):\\n    try:\\n        func1(0)\\n    except:\\n        print(\"何らかの例外が発生しました。\")\\n        raise\\n    else:\\n        print(\"この関数では例外は発生しませんでした。\")',\n",
              " '_i52': 'test(0)',\n",
              " '_i53': \"try:\\n    raise Exception('spam', 'eggs')\\nexcept Exception as inst:\\n    print(inst.args)\\n    print(inst)\\n    x, y = inst.args\\n    print('x=', x)\\n    print('y=', y)\",\n",
              " '_i54': 'globals()',\n",
              " '_i55': 'a = \"abcde\"\\na.__str__',\n",
              " '_i56': 'locals()',\n",
              " '_i6': \"num_list = [2, 4, 6, 4, 4, 2, 6]\\nfor i in range(num_list.count(4)):\\n    print(i, end=' ')\",\n",
              " '_i7': '_',\n",
              " '_i8': \"num_list = [2, 4, 6, 4, 4, 2, 6]\\nfor i in range(num_list.count(4)):\\n    print(i, end=', ')\",\n",
              " '_i9': \"name1, name2, name3, name4 = '', 'suzuki', 'tanaka', 'sato'\\nselected_name = name1 or name2 or name3 or name4\\nprint(selected_name)\",\n",
              " '_ih': ['',\n",
              "  'potato_price = 250\\nprint(potato_price)',\n",
              "  'globals()',\n",
              "  'print(__spec__)',\n",
              "  'print(__builtins__)',\n",
              "  \"num_list = [2, 4, 6, 4, 4, 2, 6]\\nfor i in range(num_list.count(4)):\\n    print(i, end=' ')\",\n",
              "  \"num_list = [2, 4, 6, 4, 4, 2, 6]\\nfor i in range(num_list.count(4)):\\n    print(i, end=' ')\",\n",
              "  '_',\n",
              "  \"num_list = [2, 4, 6, 4, 4, 2, 6]\\nfor i in range(num_list.count(4)):\\n    print(i, end=', ')\",\n",
              "  \"name1, name2, name3, name4 = '', 'suzuki', 'tanaka', 'sato'\\nselected_name = name1 or name2 or name3 or name4\\nprint(selected_name)\",\n",
              "  \"name1, name2, name3, name4 = '', 'suzuki', 'tanaka', 'sato'\\nselected_name = name1 or name2\\nprint(selected_name)\",\n",
              "  \"dic = [\\n       ['Noro', 'Nakao', 'Miyaoka'], \\n       ['Kimura', 'Miyashita', 'shibata'], \\n       ['Matsumoto', 'Tanaka', 'Ivan'], \\n]\\n\\nprint(list(zip(*dic)))\",\n",
              "  'args = [3, 6]\\nlist(range(args))',\n",
              "  'args = [3, 6]\\nlist(range(*args))',\n",
              "  'print(',\n",
              "  \"for i range(5) in:\\n    print('Hello')\",\n",
              "  'c = 0\\nfor i in range(5):\\n    c++\\n    print(c)',\n",
              "  'c = 0\\nfor i in range(5):\\nprint(c)',\n",
              "  '3 / 0',\n",
              "  'name * 3',\n",
              "  '\"a\" + 3',\n",
              "  'int(\"Hello World\")',\n",
              "  'x = int(input(\"数字を入力してください\"))',\n",
              "  'while True:\\n    try:\\n        x = int(input(\"数字を入力してください\"))\\n    except ValueError:\\n        print(\"これは有効な数字ではありません。もう一度入力してください。\")\\n    else:\\n        break',\n",
              "  'def vending_machine():\\n    print(\"==自動販売機==\")\\n    print(\"コーラ：150円\\\\nオレンジジュース：120円\\\\n選んだジュースと投入金額を入力してください。\")\\n    pritn(\"お釣りは出ません。\")\\n    print(\"===========\")\\n\\n    juice_dict = {\"コーラ\": 150, \"オレンジジュース\": 120}\\n\\n    juice = input(\"選んだジュース：\")\\n    price = juice_dict[juice]\\n\\n    in_amount = int(input(\"投入金額：\"))\\n\\n    if in_amount > price:\\n        print(\"購入完了\")\\n    else:\\n        print(\"投入金額が不足しています\")',\n",
              "  'vending_machine()',\n",
              "  'def vending_machine():\\n    print(\"==自動販売機==\")\\n    print(\"コーラ：150円\\\\nオレンジジュース：120円\\\\n選んだジュースと投入金額を入力してください。\")\\n    print(\"お釣りは出ません。\")\\n    print(\"===========\")\\n\\n    juice_dict = {\"コーラ\": 150, \"オレンジジュース\": 120}\\n\\n    juice = input(\"選んだジュース：\")\\n    price = juice_dict[juice]\\n\\n    in_amount = int(input(\"投入金額：\"))\\n\\n    if in_amount > price:\\n        print(\"購入完了\")\\n    else:\\n        print(\"投入金額が不足しています\")',\n",
              "  'vending_machine()',\n",
              "  'vending_machine()',\n",
              "  'vending_machine()',\n",
              "  'vending_machine()',\n",
              "  'def vending_machine():\\n    while True:\\n        print(\"=自動販売機=\")\\n        print(\"コーラ：150円\\\\nオレンジジュース：120円\\\\n選んだジュースと投入金額を入力してください。\")\\n        print(\"お釣りは出ません。\")\\n        print(\"==========\")\\n        juice_dict = {\"コーラ\": 150, \"オレンジジュース\": 120}\\n        juice = input(\"選んだジュース：\")\\n        try:\\n            price = juice_dict[juice]\\n        except KeyError:\\n            print(\"指定されたジュース名を入れてください\")\\n            continue\\n        try:\\n            in_amount = int(input(\"投入金額：\"))\\n        except ValueError:\\n            print(\"半角の整数値を入力してください。\")\\n            continue\\n        if in_amount > price:\\n            print(\"購入完了\")\\n        else:\\n            print(\"投入金が不足しています・・・\")\\n            break',\n",
              "  'vending_machine()',\n",
              "  'def vending_machine():\\n    while True:\\n        print(\"=自動販売機=\")\\n        print(\"コーラ：150円\\\\nオレンジジュース：120円\\\\n選んだジュースと投入金額を入力してください。\")\\n        print(\"お釣りは出ません。\")\\n        print(\"==========\")\\n        juice_dict = {\"コーラ\": 150, \"オレンジジュース\": 120}\\n        try:\\n            juice = input(\"選んだジュース：\")\\n            price = juice_dict[juice]\\n        except KeyError:\\n            print(\"指定されたジュース名を入れてください\")\\n            continue\\n        try:\\n            in_amount = int(input(\"投入金額：\"))\\n        except ValueError:\\n            print(\"半角の整数値を入力してください。\")\\n            continue\\n        if in_amount > price:\\n            print(\"購入完了\")\\n        else:\\n            print(\"投入金が不足しています・・・\")\\n            break',\n",
              "  'vending_machine()',\n",
              "  'def vending_machine():\\n    while True:\\n        print(\"=自動販売機=\")\\n        print(\"コーラ：150円\\\\nオレンジジュース：120円\\\\n選んだジュースと投入金額を入力してください。\")\\n        print(\"お釣りは出ません。\")\\n        print(\"==========\")\\n        juice_dict = {\"コーラ\": 150, \"オレンジジュース\": 120}\\n        try:\\n            juice = input(\"選んだジュース：\")\\n            price = juice_dict[juice]\\n        except KeyError:\\n            print(\"指定されたジュース名を入れてください\")\\n            continue\\n        try:\\n            in_amount = int(input(\"投入金額：\"))\\n        except ValueError:\\n            print(\"半角の整数値を入力してください。\")\\n            continue\\n        if in_amount > price:\\n            print(\"購入完了\")\\n            break\\n        else:\\n            print(\"投入金が不足しています・・・\")\\n            break',\n",
              "  'vending_machine()',\n",
              "  'raise ValueError',\n",
              "  'raise TypeError',\n",
              "  'raise ZeroDivisionError(\"0で割ることはできません。\")',\n",
              "  'raise ZeroDivisionError',\n",
              "  'raise ZeroDivisionError(\"0で割れないよ！\")',\n",
              "  'try:\\n    x = int(input(\"整数値を入れてください。\"))\\nexcept ValueError:\\n    print(\"不正な値が入力されました。\")\\n    raise',\n",
              "  'try:\\n    x = int(input(\"整数値を入れてください。\"))\\nexcept ValueError:\\n    print(\"不正な値が入力されました。\")\\n    # raise',\n",
              "  'try:\\n    x = int(input(\"整数値を入れてください。\"))\\nexcept ValueError:\\n    print(\"不正な値が入力されました。\")\\n    raise',\n",
              "  'def func1(x):\\n    try:\\n        return 1 / x\\n    except ZeroDivisionError:\\n        print(\"0で割ることはできません。\")\\n\\ndef test(x):\\n    try:\\n        x = func1(0)\\n    except:\\n        print(\"何らかの例外が発生しました。\")\\n        raise\\n    else:\\n        print(\"例外は発生しませんでした。\")',\n",
              "  'test(0)',\n",
              "  'def func1(x):\\n    try:\\n        return 1 / x\\n    except ZeroDivisionError:\\n        print(\"零割りが発生しました。\")\\n        raise\\n\\ndef test(x):\\n    try:\\n        func1(0)\\n    except:\\n        print(\"何らかの例外が発生しました。\")\\n        raise\\n    else:\\n        print(\"この関数では例外は発生しませんでした。\")',\n",
              "  'test(0)',\n",
              "  'def func1(x):\\n    try:\\n        return 1 / x\\n    except ZeroDivisionError:\\n        print(\"零割りが発生しました。\")\\n        # raise\\n\\ndef test(x):\\n    try:\\n        func1(0)\\n    except:\\n        print(\"何らかの例外が発生しました。\")\\n        raise\\n    else:\\n        print(\"この関数では例外は発生しませんでした。\")',\n",
              "  'test(0)',\n",
              "  'def func1(x):\\n    try:\\n        return 1 / x\\n    except ZeroDivisionError:\\n        print(\"零割りが発生しました。\")\\n        raise\\n\\ndef test(x):\\n    try:\\n        func1(0)\\n    except:\\n        print(\"何らかの例外が発生しました。\")\\n        raise\\n    else:\\n        print(\"この関数では例外は発生しませんでした。\")',\n",
              "  'test(0)',\n",
              "  \"try:\\n    raise Exception('spam', 'eggs')\\nexcept Exception as inst:\\n    print(inst.args)\\n    print(inst)\\n    x, y = inst.args\\n    print('x=', x)\\n    print('y=', y)\",\n",
              "  'globals()',\n",
              "  'a = \"abcde\"\\na.__str__',\n",
              "  'locals()'],\n",
              " '_ii': 'globals()',\n",
              " '_iii': \"try:\\n    raise Exception('spam', 'eggs')\\nexcept Exception as inst:\\n    print(inst.args)\\n    print(inst)\\n    x, y = inst.args\\n    print('x=', x)\\n    print('y=', y)\",\n",
              " '_oh': {2: {...},\n",
              "  7: {...},\n",
              "  13: [3, 4, 5],\n",
              "  54: {...},\n",
              "  55: <method-wrapper '__str__' of str object at 0x7fde79159eb0>},\n",
              " '_sh': <module 'IPython.core.shadowns' from '/usr/local/lib/python3.7/dist-packages/IPython/core/shadowns.py'>,\n",
              " 'a': 'abcde',\n",
              " 'args': [3, 6],\n",
              " 'dic': [['Noro', 'Nakao', 'Miyaoka'],\n",
              "  ['Kimura', 'Miyashita', 'shibata'],\n",
              "  ['Matsumoto', 'Tanaka', 'Ivan']],\n",
              " 'exit': <IPython.core.autocall.ZMQExitAutocall at 0x7fde87340510>,\n",
              " 'func1': <function __main__.func1>,\n",
              " 'get_ipython': <bound method InteractiveShell.get_ipython of <google.colab._shell.Shell object at 0x7fde875dbe10>>,\n",
              " 'i': 2,\n",
              " 'name1': '',\n",
              " 'name2': 'suzuki',\n",
              " 'name3': 'tanaka',\n",
              " 'name4': 'sato',\n",
              " 'num_list': [2, 4, 6, 4, 4, 2, 6],\n",
              " 'potato_price': 250,\n",
              " 'quit': <IPython.core.autocall.ZMQExitAutocall at 0x7fde87340510>,\n",
              " 'selected_name': 'suzuki',\n",
              " 'test': <function __main__.test>,\n",
              " 'vending_machine': <function __main__.vending_machine>,\n",
              " 'x': 'spam',\n",
              " 'y': 'eggs'}"
            ]
          },
          "metadata": {},
          "execution_count": 56
        }
      ]
    },
    {
      "cell_type": "markdown",
      "metadata": {
        "id": "2nomuli_XKe4"
      },
      "source": [
        "# row文字列"
      ]
    },
    {
      "cell_type": "code",
      "metadata": {
        "colab": {
          "base_uri": "https://localhost:8080/"
        },
        "id": "w54kzw1PYjHg",
        "outputId": "74f5582e-a1b7-4a2e-dffd-401c4d6b7593"
      },
      "source": [
        "print(r'D:\\home\\name\\python')"
      ],
      "execution_count": 57,
      "outputs": [
        {
          "output_type": "stream",
          "name": "stdout",
          "text": [
            "D:\\home\\name\\python\n"
          ]
        }
      ]
    },
    {
      "cell_type": "markdown",
      "metadata": {
        "id": "2q83KbbyYwac"
      },
      "source": [
        "# 小数点"
      ]
    },
    {
      "cell_type": "code",
      "metadata": {
        "colab": {
          "base_uri": "https://localhost:8080/"
        },
        "id": "ygNmzQmSaajc",
        "outputId": "86cd7d15-a991-443a-a362-d18693b27781"
      },
      "source": [
        "from math import pi\n",
        "[str(round(pi, i)) for i in range(0, 5)]"
      ],
      "execution_count": 58,
      "outputs": [
        {
          "output_type": "execute_result",
          "data": {
            "text/plain": [
              "['3.0', '3.1', '3.14', '3.142', '3.1416']"
            ]
          },
          "metadata": {},
          "execution_count": 58
        }
      ]
    },
    {
      "cell_type": "code",
      "metadata": {
        "colab": {
          "base_uri": "https://localhost:8080/"
        },
        "id": "729BvKtba_ii",
        "outputId": "af917c21-b11b-4dbb-8eb7-e4f6e7813632"
      },
      "source": [
        "1 / 3"
      ],
      "execution_count": 59,
      "outputs": [
        {
          "output_type": "execute_result",
          "data": {
            "text/plain": [
              "0.3333333333333333"
            ]
          },
          "metadata": {},
          "execution_count": 59
        }
      ]
    },
    {
      "cell_type": "code",
      "metadata": {
        "colab": {
          "base_uri": "https://localhost:8080/"
        },
        "id": "k9mkd3eHbB1K",
        "outputId": "6998249c-59a8-4c71-a738-db0843d050db"
      },
      "source": [
        "3 / 3"
      ],
      "execution_count": 60,
      "outputs": [
        {
          "output_type": "execute_result",
          "data": {
            "text/plain": [
              "1.0"
            ]
          },
          "metadata": {},
          "execution_count": 60
        }
      ]
    },
    {
      "cell_type": "code",
      "metadata": {
        "colab": {
          "base_uri": "https://localhost:8080/"
        },
        "id": "PrkxeJ7-bDCL",
        "outputId": "3dfaf57a-8f30-4016-a1e1-3725dbe605a6"
      },
      "source": [
        "3 + 3"
      ],
      "execution_count": 61,
      "outputs": [
        {
          "output_type": "execute_result",
          "data": {
            "text/plain": [
              "6"
            ]
          },
          "metadata": {},
          "execution_count": 61
        }
      ]
    },
    {
      "cell_type": "markdown",
      "metadata": {
        "id": "QRr5F4FObHCC"
      },
      "source": [
        "# json"
      ]
    },
    {
      "cell_type": "code",
      "metadata": {
        "colab": {
          "base_uri": "https://localhost:8080/"
        },
        "id": "t_TPYfj9cjVx",
        "outputId": "f318eceb-e993-442f-b93a-dff7062c46fd"
      },
      "source": [
        "import json\n",
        "x = {'name': 'yamada', 'data': [2, 3, 4]}\n",
        "print(json.dumps(x))"
      ],
      "execution_count": 62,
      "outputs": [
        {
          "output_type": "stream",
          "name": "stdout",
          "text": [
            "{\"name\": \"yamada\", \"data\": [2, 3, 4]}\n"
          ]
        }
      ]
    },
    {
      "cell_type": "code",
      "metadata": {
        "id": "OqI2pTh6cwYJ"
      },
      "source": [
        ""
      ],
      "execution_count": null,
      "outputs": []
    }
  ]
}